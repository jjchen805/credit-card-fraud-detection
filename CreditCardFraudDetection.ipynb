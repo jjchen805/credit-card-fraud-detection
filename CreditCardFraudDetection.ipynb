{
  "nbformat": 4,
  "nbformat_minor": 0,
  "metadata": {
    "colab": {
      "provenance": []
    },
    "kernelspec": {
      "name": "python3",
      "display_name": "Python 3"
    },
    "language_info": {
      "name": "python"
    }
  },
  "cells": [
    {
      "cell_type": "code",
      "execution_count": null,
      "metadata": {
        "id": "rBhePwJXcz30"
      },
      "outputs": [],
      "source": [
        "import pandas as pd\n",
        "import numpy as np\n",
        "import seaborn as sns\n",
        "import matplotlib.pyplot as plt\n",
        "import time\n",
        "import statsmodels.formula.api as smf\n",
        "import statsmodels.api as sm\n",
        "from sklearn.model_selection import train_test_split, cross_val_score, GridSearchCV\n",
        "from sklearn.tree import DecisionTreeClassifier, plot_tree\n",
        "from sklearn.ensemble import RandomForestClassifier\n",
        "from sklearn.metrics import roc_auc_score, roc_curve, auc, accuracy_score\n",
        "from sklearn.linear_model import LogisticRegression\n",
        "from sklearn.metrics import average_precision_score"
      ]
    },
    {
      "cell_type": "code",
      "source": [
        "\n",
        "fraud = pd.read_csv('creditcard.csv')"
      ],
      "metadata": {
        "id": "Vz1yL0Ghc45E"
      },
      "execution_count": null,
      "outputs": []
    },
    {
      "cell_type": "code",
      "source": [
        "#compute accuracy of baseline where no fraud is detected\n",
        "\n",
        "fraud['Class'].value_counts()\n",
        "\n",
        "284315/(284315 + 492)"
      ],
      "metadata": {
        "colab": {
          "base_uri": "https://localhost:8080/"
        },
        "id": "yi5e2ut6ibxF",
        "outputId": "e931ac0f-5f59-45fc-f20c-b5ffba7b6030"
      },
      "execution_count": null,
      "outputs": [
        {
          "output_type": "execute_result",
          "data": {
            "text/plain": [
              "0.9982725143693799"
            ]
          },
          "metadata": {},
          "execution_count": 3
        }
      ]
    },
    {
      "cell_type": "code",
      "source": [
        "fraud['Amount']=(fraud['Amount']-fraud['Amount'].mean())/fraud['Amount'].std()"
      ],
      "metadata": {
        "id": "FkvgV6SSftvs"
      },
      "execution_count": null,
      "outputs": []
    },
    {
      "cell_type": "code",
      "source": [
        "X = fraud.drop(['Class', 'Time'], axis =1)"
      ],
      "metadata": {
        "id": "y6K_maa4ea4K"
      },
      "execution_count": null,
      "outputs": []
    },
    {
      "cell_type": "code",
      "source": [
        "X"
      ],
      "metadata": {
        "colab": {
          "base_uri": "https://localhost:8080/",
          "height": 444
        },
        "id": "Ph-ZGYtAemna",
        "outputId": "9381d7e2-8fdb-4433-b1ea-81d34b54d4c7"
      },
      "execution_count": null,
      "outputs": [
        {
          "output_type": "execute_result",
          "data": {
            "text/plain": [
              "               V1         V2        V3        V4        V5        V6  \\\n",
              "0       -1.359807  -0.072781  2.536347  1.378155 -0.338321  0.462388   \n",
              "1        1.191857   0.266151  0.166480  0.448154  0.060018 -0.082361   \n",
              "2       -1.358354  -1.340163  1.773209  0.379780 -0.503198  1.800499   \n",
              "3       -0.966272  -0.185226  1.792993 -0.863291 -0.010309  1.247203   \n",
              "4       -1.158233   0.877737  1.548718  0.403034 -0.407193  0.095921   \n",
              "...           ...        ...       ...       ...       ...       ...   \n",
              "284802 -11.881118  10.071785 -9.834783 -2.066656 -5.364473 -2.606837   \n",
              "284803  -0.732789  -0.055080  2.035030 -0.738589  0.868229  1.058415   \n",
              "284804   1.919565  -0.301254 -3.249640 -0.557828  2.630515  3.031260   \n",
              "284805  -0.240440   0.530483  0.702510  0.689799 -0.377961  0.623708   \n",
              "284806  -0.533413  -0.189733  0.703337 -0.506271 -0.012546 -0.649617   \n",
              "\n",
              "              V7        V8        V9       V10  ...       V20       V21  \\\n",
              "0       0.239599  0.098698  0.363787  0.090794  ...  0.251412 -0.018307   \n",
              "1      -0.078803  0.085102 -0.255425 -0.166974  ... -0.069083 -0.225775   \n",
              "2       0.791461  0.247676 -1.514654  0.207643  ...  0.524980  0.247998   \n",
              "3       0.237609  0.377436 -1.387024 -0.054952  ... -0.208038 -0.108300   \n",
              "4       0.592941 -0.270533  0.817739  0.753074  ...  0.408542 -0.009431   \n",
              "...          ...       ...       ...       ...  ...       ...       ...   \n",
              "284802 -4.918215  7.305334  1.914428  4.356170  ...  1.475829  0.213454   \n",
              "284803  0.024330  0.294869  0.584800 -0.975926  ...  0.059616  0.214205   \n",
              "284804 -0.296827  0.708417  0.432454 -0.484782  ...  0.001396  0.232045   \n",
              "284805 -0.686180  0.679145  0.392087 -0.399126  ...  0.127434  0.265245   \n",
              "284806  1.577006 -0.414650  0.486180 -0.915427  ...  0.382948  0.261057   \n",
              "\n",
              "             V22       V23       V24       V25       V26       V27       V28  \\\n",
              "0       0.277838 -0.110474  0.066928  0.128539 -0.189115  0.133558 -0.021053   \n",
              "1      -0.638672  0.101288 -0.339846  0.167170  0.125895 -0.008983  0.014724   \n",
              "2       0.771679  0.909412 -0.689281 -0.327642 -0.139097 -0.055353 -0.059752   \n",
              "3       0.005274 -0.190321 -1.175575  0.647376 -0.221929  0.062723  0.061458   \n",
              "4       0.798278 -0.137458  0.141267 -0.206010  0.502292  0.219422  0.215153   \n",
              "...          ...       ...       ...       ...       ...       ...       ...   \n",
              "284802  0.111864  1.014480 -0.509348  1.436807  0.250034  0.943651  0.823731   \n",
              "284803  0.924384  0.012463 -1.016226 -0.606624 -0.395255  0.068472 -0.053527   \n",
              "284804  0.578229 -0.037501  0.640134  0.265745 -0.087371  0.004455 -0.026561   \n",
              "284805  0.800049 -0.163298  0.123205 -0.569159  0.546668  0.108821  0.104533   \n",
              "284806  0.643078  0.376777  0.008797 -0.473649 -0.818267 -0.002415  0.013649   \n",
              "\n",
              "          Amount  \n",
              "0       0.244964  \n",
              "1      -0.342474  \n",
              "2       1.160684  \n",
              "3       0.140534  \n",
              "4      -0.073403  \n",
              "...          ...  \n",
              "284802 -0.350150  \n",
              "284803 -0.254116  \n",
              "284804 -0.081839  \n",
              "284805 -0.313248  \n",
              "284806  0.514354  \n",
              "\n",
              "[284807 rows x 29 columns]"
            ],
            "text/html": [
              "\n",
              "  <div id=\"df-2be281c5-b07f-4ff9-9c9c-ebfed61cb772\" class=\"colab-df-container\">\n",
              "    <div>\n",
              "<style scoped>\n",
              "    .dataframe tbody tr th:only-of-type {\n",
              "        vertical-align: middle;\n",
              "    }\n",
              "\n",
              "    .dataframe tbody tr th {\n",
              "        vertical-align: top;\n",
              "    }\n",
              "\n",
              "    .dataframe thead th {\n",
              "        text-align: right;\n",
              "    }\n",
              "</style>\n",
              "<table border=\"1\" class=\"dataframe\">\n",
              "  <thead>\n",
              "    <tr style=\"text-align: right;\">\n",
              "      <th></th>\n",
              "      <th>V1</th>\n",
              "      <th>V2</th>\n",
              "      <th>V3</th>\n",
              "      <th>V4</th>\n",
              "      <th>V5</th>\n",
              "      <th>V6</th>\n",
              "      <th>V7</th>\n",
              "      <th>V8</th>\n",
              "      <th>V9</th>\n",
              "      <th>V10</th>\n",
              "      <th>...</th>\n",
              "      <th>V20</th>\n",
              "      <th>V21</th>\n",
              "      <th>V22</th>\n",
              "      <th>V23</th>\n",
              "      <th>V24</th>\n",
              "      <th>V25</th>\n",
              "      <th>V26</th>\n",
              "      <th>V27</th>\n",
              "      <th>V28</th>\n",
              "      <th>Amount</th>\n",
              "    </tr>\n",
              "  </thead>\n",
              "  <tbody>\n",
              "    <tr>\n",
              "      <th>0</th>\n",
              "      <td>-1.359807</td>\n",
              "      <td>-0.072781</td>\n",
              "      <td>2.536347</td>\n",
              "      <td>1.378155</td>\n",
              "      <td>-0.338321</td>\n",
              "      <td>0.462388</td>\n",
              "      <td>0.239599</td>\n",
              "      <td>0.098698</td>\n",
              "      <td>0.363787</td>\n",
              "      <td>0.090794</td>\n",
              "      <td>...</td>\n",
              "      <td>0.251412</td>\n",
              "      <td>-0.018307</td>\n",
              "      <td>0.277838</td>\n",
              "      <td>-0.110474</td>\n",
              "      <td>0.066928</td>\n",
              "      <td>0.128539</td>\n",
              "      <td>-0.189115</td>\n",
              "      <td>0.133558</td>\n",
              "      <td>-0.021053</td>\n",
              "      <td>0.244964</td>\n",
              "    </tr>\n",
              "    <tr>\n",
              "      <th>1</th>\n",
              "      <td>1.191857</td>\n",
              "      <td>0.266151</td>\n",
              "      <td>0.166480</td>\n",
              "      <td>0.448154</td>\n",
              "      <td>0.060018</td>\n",
              "      <td>-0.082361</td>\n",
              "      <td>-0.078803</td>\n",
              "      <td>0.085102</td>\n",
              "      <td>-0.255425</td>\n",
              "      <td>-0.166974</td>\n",
              "      <td>...</td>\n",
              "      <td>-0.069083</td>\n",
              "      <td>-0.225775</td>\n",
              "      <td>-0.638672</td>\n",
              "      <td>0.101288</td>\n",
              "      <td>-0.339846</td>\n",
              "      <td>0.167170</td>\n",
              "      <td>0.125895</td>\n",
              "      <td>-0.008983</td>\n",
              "      <td>0.014724</td>\n",
              "      <td>-0.342474</td>\n",
              "    </tr>\n",
              "    <tr>\n",
              "      <th>2</th>\n",
              "      <td>-1.358354</td>\n",
              "      <td>-1.340163</td>\n",
              "      <td>1.773209</td>\n",
              "      <td>0.379780</td>\n",
              "      <td>-0.503198</td>\n",
              "      <td>1.800499</td>\n",
              "      <td>0.791461</td>\n",
              "      <td>0.247676</td>\n",
              "      <td>-1.514654</td>\n",
              "      <td>0.207643</td>\n",
              "      <td>...</td>\n",
              "      <td>0.524980</td>\n",
              "      <td>0.247998</td>\n",
              "      <td>0.771679</td>\n",
              "      <td>0.909412</td>\n",
              "      <td>-0.689281</td>\n",
              "      <td>-0.327642</td>\n",
              "      <td>-0.139097</td>\n",
              "      <td>-0.055353</td>\n",
              "      <td>-0.059752</td>\n",
              "      <td>1.160684</td>\n",
              "    </tr>\n",
              "    <tr>\n",
              "      <th>3</th>\n",
              "      <td>-0.966272</td>\n",
              "      <td>-0.185226</td>\n",
              "      <td>1.792993</td>\n",
              "      <td>-0.863291</td>\n",
              "      <td>-0.010309</td>\n",
              "      <td>1.247203</td>\n",
              "      <td>0.237609</td>\n",
              "      <td>0.377436</td>\n",
              "      <td>-1.387024</td>\n",
              "      <td>-0.054952</td>\n",
              "      <td>...</td>\n",
              "      <td>-0.208038</td>\n",
              "      <td>-0.108300</td>\n",
              "      <td>0.005274</td>\n",
              "      <td>-0.190321</td>\n",
              "      <td>-1.175575</td>\n",
              "      <td>0.647376</td>\n",
              "      <td>-0.221929</td>\n",
              "      <td>0.062723</td>\n",
              "      <td>0.061458</td>\n",
              "      <td>0.140534</td>\n",
              "    </tr>\n",
              "    <tr>\n",
              "      <th>4</th>\n",
              "      <td>-1.158233</td>\n",
              "      <td>0.877737</td>\n",
              "      <td>1.548718</td>\n",
              "      <td>0.403034</td>\n",
              "      <td>-0.407193</td>\n",
              "      <td>0.095921</td>\n",
              "      <td>0.592941</td>\n",
              "      <td>-0.270533</td>\n",
              "      <td>0.817739</td>\n",
              "      <td>0.753074</td>\n",
              "      <td>...</td>\n",
              "      <td>0.408542</td>\n",
              "      <td>-0.009431</td>\n",
              "      <td>0.798278</td>\n",
              "      <td>-0.137458</td>\n",
              "      <td>0.141267</td>\n",
              "      <td>-0.206010</td>\n",
              "      <td>0.502292</td>\n",
              "      <td>0.219422</td>\n",
              "      <td>0.215153</td>\n",
              "      <td>-0.073403</td>\n",
              "    </tr>\n",
              "    <tr>\n",
              "      <th>...</th>\n",
              "      <td>...</td>\n",
              "      <td>...</td>\n",
              "      <td>...</td>\n",
              "      <td>...</td>\n",
              "      <td>...</td>\n",
              "      <td>...</td>\n",
              "      <td>...</td>\n",
              "      <td>...</td>\n",
              "      <td>...</td>\n",
              "      <td>...</td>\n",
              "      <td>...</td>\n",
              "      <td>...</td>\n",
              "      <td>...</td>\n",
              "      <td>...</td>\n",
              "      <td>...</td>\n",
              "      <td>...</td>\n",
              "      <td>...</td>\n",
              "      <td>...</td>\n",
              "      <td>...</td>\n",
              "      <td>...</td>\n",
              "      <td>...</td>\n",
              "    </tr>\n",
              "    <tr>\n",
              "      <th>284802</th>\n",
              "      <td>-11.881118</td>\n",
              "      <td>10.071785</td>\n",
              "      <td>-9.834783</td>\n",
              "      <td>-2.066656</td>\n",
              "      <td>-5.364473</td>\n",
              "      <td>-2.606837</td>\n",
              "      <td>-4.918215</td>\n",
              "      <td>7.305334</td>\n",
              "      <td>1.914428</td>\n",
              "      <td>4.356170</td>\n",
              "      <td>...</td>\n",
              "      <td>1.475829</td>\n",
              "      <td>0.213454</td>\n",
              "      <td>0.111864</td>\n",
              "      <td>1.014480</td>\n",
              "      <td>-0.509348</td>\n",
              "      <td>1.436807</td>\n",
              "      <td>0.250034</td>\n",
              "      <td>0.943651</td>\n",
              "      <td>0.823731</td>\n",
              "      <td>-0.350150</td>\n",
              "    </tr>\n",
              "    <tr>\n",
              "      <th>284803</th>\n",
              "      <td>-0.732789</td>\n",
              "      <td>-0.055080</td>\n",
              "      <td>2.035030</td>\n",
              "      <td>-0.738589</td>\n",
              "      <td>0.868229</td>\n",
              "      <td>1.058415</td>\n",
              "      <td>0.024330</td>\n",
              "      <td>0.294869</td>\n",
              "      <td>0.584800</td>\n",
              "      <td>-0.975926</td>\n",
              "      <td>...</td>\n",
              "      <td>0.059616</td>\n",
              "      <td>0.214205</td>\n",
              "      <td>0.924384</td>\n",
              "      <td>0.012463</td>\n",
              "      <td>-1.016226</td>\n",
              "      <td>-0.606624</td>\n",
              "      <td>-0.395255</td>\n",
              "      <td>0.068472</td>\n",
              "      <td>-0.053527</td>\n",
              "      <td>-0.254116</td>\n",
              "    </tr>\n",
              "    <tr>\n",
              "      <th>284804</th>\n",
              "      <td>1.919565</td>\n",
              "      <td>-0.301254</td>\n",
              "      <td>-3.249640</td>\n",
              "      <td>-0.557828</td>\n",
              "      <td>2.630515</td>\n",
              "      <td>3.031260</td>\n",
              "      <td>-0.296827</td>\n",
              "      <td>0.708417</td>\n",
              "      <td>0.432454</td>\n",
              "      <td>-0.484782</td>\n",
              "      <td>...</td>\n",
              "      <td>0.001396</td>\n",
              "      <td>0.232045</td>\n",
              "      <td>0.578229</td>\n",
              "      <td>-0.037501</td>\n",
              "      <td>0.640134</td>\n",
              "      <td>0.265745</td>\n",
              "      <td>-0.087371</td>\n",
              "      <td>0.004455</td>\n",
              "      <td>-0.026561</td>\n",
              "      <td>-0.081839</td>\n",
              "    </tr>\n",
              "    <tr>\n",
              "      <th>284805</th>\n",
              "      <td>-0.240440</td>\n",
              "      <td>0.530483</td>\n",
              "      <td>0.702510</td>\n",
              "      <td>0.689799</td>\n",
              "      <td>-0.377961</td>\n",
              "      <td>0.623708</td>\n",
              "      <td>-0.686180</td>\n",
              "      <td>0.679145</td>\n",
              "      <td>0.392087</td>\n",
              "      <td>-0.399126</td>\n",
              "      <td>...</td>\n",
              "      <td>0.127434</td>\n",
              "      <td>0.265245</td>\n",
              "      <td>0.800049</td>\n",
              "      <td>-0.163298</td>\n",
              "      <td>0.123205</td>\n",
              "      <td>-0.569159</td>\n",
              "      <td>0.546668</td>\n",
              "      <td>0.108821</td>\n",
              "      <td>0.104533</td>\n",
              "      <td>-0.313248</td>\n",
              "    </tr>\n",
              "    <tr>\n",
              "      <th>284806</th>\n",
              "      <td>-0.533413</td>\n",
              "      <td>-0.189733</td>\n",
              "      <td>0.703337</td>\n",
              "      <td>-0.506271</td>\n",
              "      <td>-0.012546</td>\n",
              "      <td>-0.649617</td>\n",
              "      <td>1.577006</td>\n",
              "      <td>-0.414650</td>\n",
              "      <td>0.486180</td>\n",
              "      <td>-0.915427</td>\n",
              "      <td>...</td>\n",
              "      <td>0.382948</td>\n",
              "      <td>0.261057</td>\n",
              "      <td>0.643078</td>\n",
              "      <td>0.376777</td>\n",
              "      <td>0.008797</td>\n",
              "      <td>-0.473649</td>\n",
              "      <td>-0.818267</td>\n",
              "      <td>-0.002415</td>\n",
              "      <td>0.013649</td>\n",
              "      <td>0.514354</td>\n",
              "    </tr>\n",
              "  </tbody>\n",
              "</table>\n",
              "<p>284807 rows × 29 columns</p>\n",
              "</div>\n",
              "    <div class=\"colab-df-buttons\">\n",
              "\n",
              "  <div class=\"colab-df-container\">\n",
              "    <button class=\"colab-df-convert\" onclick=\"convertToInteractive('df-2be281c5-b07f-4ff9-9c9c-ebfed61cb772')\"\n",
              "            title=\"Convert this dataframe to an interactive table.\"\n",
              "            style=\"display:none;\">\n",
              "\n",
              "  <svg xmlns=\"http://www.w3.org/2000/svg\" height=\"24px\" viewBox=\"0 -960 960 960\">\n",
              "    <path d=\"M120-120v-720h720v720H120Zm60-500h600v-160H180v160Zm220 220h160v-160H400v160Zm0 220h160v-160H400v160ZM180-400h160v-160H180v160Zm440 0h160v-160H620v160ZM180-180h160v-160H180v160Zm440 0h160v-160H620v160Z\"/>\n",
              "  </svg>\n",
              "    </button>\n",
              "\n",
              "  <style>\n",
              "    .colab-df-container {\n",
              "      display:flex;\n",
              "      gap: 12px;\n",
              "    }\n",
              "\n",
              "    .colab-df-convert {\n",
              "      background-color: #E8F0FE;\n",
              "      border: none;\n",
              "      border-radius: 50%;\n",
              "      cursor: pointer;\n",
              "      display: none;\n",
              "      fill: #1967D2;\n",
              "      height: 32px;\n",
              "      padding: 0 0 0 0;\n",
              "      width: 32px;\n",
              "    }\n",
              "\n",
              "    .colab-df-convert:hover {\n",
              "      background-color: #E2EBFA;\n",
              "      box-shadow: 0px 1px 2px rgba(60, 64, 67, 0.3), 0px 1px 3px 1px rgba(60, 64, 67, 0.15);\n",
              "      fill: #174EA6;\n",
              "    }\n",
              "\n",
              "    .colab-df-buttons div {\n",
              "      margin-bottom: 4px;\n",
              "    }\n",
              "\n",
              "    [theme=dark] .colab-df-convert {\n",
              "      background-color: #3B4455;\n",
              "      fill: #D2E3FC;\n",
              "    }\n",
              "\n",
              "    [theme=dark] .colab-df-convert:hover {\n",
              "      background-color: #434B5C;\n",
              "      box-shadow: 0px 1px 3px 1px rgba(0, 0, 0, 0.15);\n",
              "      filter: drop-shadow(0px 1px 2px rgba(0, 0, 0, 0.3));\n",
              "      fill: #FFFFFF;\n",
              "    }\n",
              "  </style>\n",
              "\n",
              "    <script>\n",
              "      const buttonEl =\n",
              "        document.querySelector('#df-2be281c5-b07f-4ff9-9c9c-ebfed61cb772 button.colab-df-convert');\n",
              "      buttonEl.style.display =\n",
              "        google.colab.kernel.accessAllowed ? 'block' : 'none';\n",
              "\n",
              "      async function convertToInteractive(key) {\n",
              "        const element = document.querySelector('#df-2be281c5-b07f-4ff9-9c9c-ebfed61cb772');\n",
              "        const dataTable =\n",
              "          await google.colab.kernel.invokeFunction('convertToInteractive',\n",
              "                                                    [key], {});\n",
              "        if (!dataTable) return;\n",
              "\n",
              "        const docLinkHtml = 'Like what you see? Visit the ' +\n",
              "          '<a target=\"_blank\" href=https://colab.research.google.com/notebooks/data_table.ipynb>data table notebook</a>'\n",
              "          + ' to learn more about interactive tables.';\n",
              "        element.innerHTML = '';\n",
              "        dataTable['output_type'] = 'display_data';\n",
              "        await google.colab.output.renderOutput(dataTable, element);\n",
              "        const docLink = document.createElement('div');\n",
              "        docLink.innerHTML = docLinkHtml;\n",
              "        element.appendChild(docLink);\n",
              "      }\n",
              "    </script>\n",
              "  </div>\n",
              "\n",
              "\n",
              "<div id=\"df-f603aa9d-41ce-405f-b7a8-411a4e515288\">\n",
              "  <button class=\"colab-df-quickchart\" onclick=\"quickchart('df-f603aa9d-41ce-405f-b7a8-411a4e515288')\"\n",
              "            title=\"Suggest charts\"\n",
              "            style=\"display:none;\">\n",
              "\n",
              "<svg xmlns=\"http://www.w3.org/2000/svg\" height=\"24px\"viewBox=\"0 0 24 24\"\n",
              "     width=\"24px\">\n",
              "    <g>\n",
              "        <path d=\"M19 3H5c-1.1 0-2 .9-2 2v14c0 1.1.9 2 2 2h14c1.1 0 2-.9 2-2V5c0-1.1-.9-2-2-2zM9 17H7v-7h2v7zm4 0h-2V7h2v10zm4 0h-2v-4h2v4z\"/>\n",
              "    </g>\n",
              "</svg>\n",
              "  </button>\n",
              "\n",
              "<style>\n",
              "  .colab-df-quickchart {\n",
              "      --bg-color: #E8F0FE;\n",
              "      --fill-color: #1967D2;\n",
              "      --hover-bg-color: #E2EBFA;\n",
              "      --hover-fill-color: #174EA6;\n",
              "      --disabled-fill-color: #AAA;\n",
              "      --disabled-bg-color: #DDD;\n",
              "  }\n",
              "\n",
              "  [theme=dark] .colab-df-quickchart {\n",
              "      --bg-color: #3B4455;\n",
              "      --fill-color: #D2E3FC;\n",
              "      --hover-bg-color: #434B5C;\n",
              "      --hover-fill-color: #FFFFFF;\n",
              "      --disabled-bg-color: #3B4455;\n",
              "      --disabled-fill-color: #666;\n",
              "  }\n",
              "\n",
              "  .colab-df-quickchart {\n",
              "    background-color: var(--bg-color);\n",
              "    border: none;\n",
              "    border-radius: 50%;\n",
              "    cursor: pointer;\n",
              "    display: none;\n",
              "    fill: var(--fill-color);\n",
              "    height: 32px;\n",
              "    padding: 0;\n",
              "    width: 32px;\n",
              "  }\n",
              "\n",
              "  .colab-df-quickchart:hover {\n",
              "    background-color: var(--hover-bg-color);\n",
              "    box-shadow: 0 1px 2px rgba(60, 64, 67, 0.3), 0 1px 3px 1px rgba(60, 64, 67, 0.15);\n",
              "    fill: var(--button-hover-fill-color);\n",
              "  }\n",
              "\n",
              "  .colab-df-quickchart-complete:disabled,\n",
              "  .colab-df-quickchart-complete:disabled:hover {\n",
              "    background-color: var(--disabled-bg-color);\n",
              "    fill: var(--disabled-fill-color);\n",
              "    box-shadow: none;\n",
              "  }\n",
              "\n",
              "  .colab-df-spinner {\n",
              "    border: 2px solid var(--fill-color);\n",
              "    border-color: transparent;\n",
              "    border-bottom-color: var(--fill-color);\n",
              "    animation:\n",
              "      spin 1s steps(1) infinite;\n",
              "  }\n",
              "\n",
              "  @keyframes spin {\n",
              "    0% {\n",
              "      border-color: transparent;\n",
              "      border-bottom-color: var(--fill-color);\n",
              "      border-left-color: var(--fill-color);\n",
              "    }\n",
              "    20% {\n",
              "      border-color: transparent;\n",
              "      border-left-color: var(--fill-color);\n",
              "      border-top-color: var(--fill-color);\n",
              "    }\n",
              "    30% {\n",
              "      border-color: transparent;\n",
              "      border-left-color: var(--fill-color);\n",
              "      border-top-color: var(--fill-color);\n",
              "      border-right-color: var(--fill-color);\n",
              "    }\n",
              "    40% {\n",
              "      border-color: transparent;\n",
              "      border-right-color: var(--fill-color);\n",
              "      border-top-color: var(--fill-color);\n",
              "    }\n",
              "    60% {\n",
              "      border-color: transparent;\n",
              "      border-right-color: var(--fill-color);\n",
              "    }\n",
              "    80% {\n",
              "      border-color: transparent;\n",
              "      border-right-color: var(--fill-color);\n",
              "      border-bottom-color: var(--fill-color);\n",
              "    }\n",
              "    90% {\n",
              "      border-color: transparent;\n",
              "      border-bottom-color: var(--fill-color);\n",
              "    }\n",
              "  }\n",
              "</style>\n",
              "\n",
              "  <script>\n",
              "    async function quickchart(key) {\n",
              "      const quickchartButtonEl =\n",
              "        document.querySelector('#' + key + ' button');\n",
              "      quickchartButtonEl.disabled = true;  // To prevent multiple clicks.\n",
              "      quickchartButtonEl.classList.add('colab-df-spinner');\n",
              "      try {\n",
              "        const charts = await google.colab.kernel.invokeFunction(\n",
              "            'suggestCharts', [key], {});\n",
              "      } catch (error) {\n",
              "        console.error('Error during call to suggestCharts:', error);\n",
              "      }\n",
              "      quickchartButtonEl.classList.remove('colab-df-spinner');\n",
              "      quickchartButtonEl.classList.add('colab-df-quickchart-complete');\n",
              "    }\n",
              "    (() => {\n",
              "      let quickchartButtonEl =\n",
              "        document.querySelector('#df-f603aa9d-41ce-405f-b7a8-411a4e515288 button');\n",
              "      quickchartButtonEl.style.display =\n",
              "        google.colab.kernel.accessAllowed ? 'block' : 'none';\n",
              "    })();\n",
              "  </script>\n",
              "</div>\n",
              "    </div>\n",
              "  </div>\n"
            ],
            "application/vnd.google.colaboratory.intrinsic+json": {
              "type": "dataframe",
              "variable_name": "X"
            }
          },
          "metadata": {},
          "execution_count": 6
        }
      ]
    },
    {
      "cell_type": "code",
      "source": [
        "y = fraud['Class']"
      ],
      "metadata": {
        "id": "P49rDXHJfJUw"
      },
      "execution_count": null,
      "outputs": []
    },
    {
      "cell_type": "code",
      "source": [
        "train, test = train_test_split(fraud, test_size = 0.3, random_state = 42)"
      ],
      "metadata": {
        "id": "6q3ZkTd2gVfo"
      },
      "execution_count": null,
      "outputs": []
    },
    {
      "cell_type": "code",
      "source": [
        "x_train, x_test, y_train, y_test = train_test_split(X, y, test_size = 0.3, random_state =42)"
      ],
      "metadata": {
        "id": "c7cHDZRCfPH2"
      },
      "execution_count": null,
      "outputs": []
    },
    {
      "cell_type": "code",
      "source": [
        "logit_regression = smf.logit(\"Class ~ V1 + V2 + V3 + V4 + V5 + V6 + V7 + V8 + V9 + V10 + V11 + V12 + V13 + V14 + V15 + V16 + V17 + V18 + V19 + V20 + V21 + V22 + V23 + V24 + V25 + V26 + V27 + V28 + Amount\", data = train)\n",
        "logit_results = logit_regression.fit()\n",
        "print(logit_results.summary())"
      ],
      "metadata": {
        "colab": {
          "base_uri": "https://localhost:8080/"
        },
        "id": "klV5CMY3fhmc",
        "outputId": "24a72e9f-7bff-4552-ec72-a59e8d4a2c19"
      },
      "execution_count": null,
      "outputs": [
        {
          "output_type": "stream",
          "name": "stdout",
          "text": [
            "Optimization terminated successfully.\n",
            "         Current function value: 0.004117\n",
            "         Iterations 13\n",
            "                           Logit Regression Results                           \n",
            "==============================================================================\n",
            "Dep. Variable:                  Class   No. Observations:               199364\n",
            "Model:                          Logit   Df Residuals:                   199334\n",
            "Method:                           MLE   Df Model:                           29\n",
            "Date:                Tue, 12 Mar 2024   Pseudo R-squ.:                  0.6853\n",
            "Time:                        03:59:49   Log-Likelihood:                -820.83\n",
            "converged:                       True   LL-Null:                       -2608.4\n",
            "Covariance Type:            nonrobust   LLR p-value:                     0.000\n",
            "==============================================================================\n",
            "                 coef    std err          z      P>|z|      [0.025      0.975]\n",
            "------------------------------------------------------------------------------\n",
            "Intercept     -8.5538      0.164    -52.000      0.000      -8.876      -8.231\n",
            "V1             0.0891      0.047      1.882      0.060      -0.004       0.182\n",
            "V2             0.0057      0.059      0.097      0.923      -0.110       0.121\n",
            "V3             0.0282      0.052      0.537      0.591      -0.075       0.131\n",
            "V4             0.6910      0.081      8.581      0.000       0.533       0.849\n",
            "V5             0.0816      0.070      1.162      0.245      -0.056       0.219\n",
            "V6            -0.1201      0.086     -1.397      0.162      -0.289       0.048\n",
            "V7            -0.1316      0.070     -1.871      0.061      -0.269       0.006\n",
            "V8            -0.1739      0.038     -4.561      0.000      -0.249      -0.099\n",
            "V9            -0.1978      0.121     -1.633      0.103      -0.435       0.040\n",
            "V10           -0.6648      0.111     -5.980      0.000      -0.883      -0.447\n",
            "V11           -0.0611      0.088     -0.697      0.486      -0.233       0.111\n",
            "V12           -0.0047      0.095     -0.049      0.961      -0.191       0.182\n",
            "V13           -0.2613      0.094     -2.780      0.005      -0.446      -0.077\n",
            "V14           -0.5907      0.071     -8.300      0.000      -0.730      -0.451\n",
            "V15           -0.0574      0.097     -0.593      0.553      -0.247       0.132\n",
            "V16           -0.2506      0.133     -1.881      0.060      -0.512       0.011\n",
            "V17            0.0047      0.077      0.061      0.952      -0.147       0.156\n",
            "V18           -0.0377      0.139     -0.272      0.786      -0.310       0.234\n",
            "V19           -0.0054      0.106     -0.051      0.959      -0.213       0.202\n",
            "V20           -0.4327      0.093     -4.670      0.000      -0.614      -0.251\n",
            "V21            0.3468      0.068      5.128      0.000       0.214       0.479\n",
            "V22            0.5848      0.148      3.955      0.000       0.295       0.875\n",
            "V23           -0.0968      0.063     -1.530      0.126      -0.221       0.027\n",
            "V24            0.1194      0.172      0.695      0.487      -0.217       0.456\n",
            "V25           -0.0834      0.151     -0.554      0.580      -0.379       0.212\n",
            "V26            0.0808      0.217      0.373      0.709      -0.344       0.506\n",
            "V27           -0.8326      0.143     -5.810      0.000      -1.113      -0.552\n",
            "V28           -0.4170      0.129     -3.232      0.001      -0.670      -0.164\n",
            "Amount         0.2317      0.086      2.700      0.007       0.063       0.400\n",
            "==============================================================================\n",
            "\n",
            "Possibly complete quasi-separation: A fraction 0.29 of observations can be\n",
            "perfectly predicted. This might indicate that there is complete\n",
            "quasi-separation. In this case some parameters will not be identified.\n"
          ]
        }
      ]
    },
    {
      "cell_type": "code",
      "source": [
        "test['PredictedFraud'] = (logit_results.predict(test) > 0.5).astype(int)\n",
        "pd.crosstab(test['Class'], test['PredictedFraud'])"
      ],
      "metadata": {
        "colab": {
          "base_uri": "https://localhost:8080/",
          "height": 143
        },
        "id": "2dYu_AG5gCxQ",
        "outputId": "89653792-caee-411f-e9f0-7a53a2650e6f"
      },
      "execution_count": null,
      "outputs": [
        {
          "output_type": "execute_result",
          "data": {
            "text/plain": [
              "PredictedFraud      0   1\n",
              "Class                    \n",
              "0               85295  12\n",
              "1                  51  85"
            ],
            "text/html": [
              "\n",
              "  <div id=\"df-2733c5ce-b53d-4308-b0dd-7b44e5850027\" class=\"colab-df-container\">\n",
              "    <div>\n",
              "<style scoped>\n",
              "    .dataframe tbody tr th:only-of-type {\n",
              "        vertical-align: middle;\n",
              "    }\n",
              "\n",
              "    .dataframe tbody tr th {\n",
              "        vertical-align: top;\n",
              "    }\n",
              "\n",
              "    .dataframe thead th {\n",
              "        text-align: right;\n",
              "    }\n",
              "</style>\n",
              "<table border=\"1\" class=\"dataframe\">\n",
              "  <thead>\n",
              "    <tr style=\"text-align: right;\">\n",
              "      <th>PredictedFraud</th>\n",
              "      <th>0</th>\n",
              "      <th>1</th>\n",
              "    </tr>\n",
              "    <tr>\n",
              "      <th>Class</th>\n",
              "      <th></th>\n",
              "      <th></th>\n",
              "    </tr>\n",
              "  </thead>\n",
              "  <tbody>\n",
              "    <tr>\n",
              "      <th>0</th>\n",
              "      <td>85295</td>\n",
              "      <td>12</td>\n",
              "    </tr>\n",
              "    <tr>\n",
              "      <th>1</th>\n",
              "      <td>51</td>\n",
              "      <td>85</td>\n",
              "    </tr>\n",
              "  </tbody>\n",
              "</table>\n",
              "</div>\n",
              "    <div class=\"colab-df-buttons\">\n",
              "\n",
              "  <div class=\"colab-df-container\">\n",
              "    <button class=\"colab-df-convert\" onclick=\"convertToInteractive('df-2733c5ce-b53d-4308-b0dd-7b44e5850027')\"\n",
              "            title=\"Convert this dataframe to an interactive table.\"\n",
              "            style=\"display:none;\">\n",
              "\n",
              "  <svg xmlns=\"http://www.w3.org/2000/svg\" height=\"24px\" viewBox=\"0 -960 960 960\">\n",
              "    <path d=\"M120-120v-720h720v720H120Zm60-500h600v-160H180v160Zm220 220h160v-160H400v160Zm0 220h160v-160H400v160ZM180-400h160v-160H180v160Zm440 0h160v-160H620v160ZM180-180h160v-160H180v160Zm440 0h160v-160H620v160Z\"/>\n",
              "  </svg>\n",
              "    </button>\n",
              "\n",
              "  <style>\n",
              "    .colab-df-container {\n",
              "      display:flex;\n",
              "      gap: 12px;\n",
              "    }\n",
              "\n",
              "    .colab-df-convert {\n",
              "      background-color: #E8F0FE;\n",
              "      border: none;\n",
              "      border-radius: 50%;\n",
              "      cursor: pointer;\n",
              "      display: none;\n",
              "      fill: #1967D2;\n",
              "      height: 32px;\n",
              "      padding: 0 0 0 0;\n",
              "      width: 32px;\n",
              "    }\n",
              "\n",
              "    .colab-df-convert:hover {\n",
              "      background-color: #E2EBFA;\n",
              "      box-shadow: 0px 1px 2px rgba(60, 64, 67, 0.3), 0px 1px 3px 1px rgba(60, 64, 67, 0.15);\n",
              "      fill: #174EA6;\n",
              "    }\n",
              "\n",
              "    .colab-df-buttons div {\n",
              "      margin-bottom: 4px;\n",
              "    }\n",
              "\n",
              "    [theme=dark] .colab-df-convert {\n",
              "      background-color: #3B4455;\n",
              "      fill: #D2E3FC;\n",
              "    }\n",
              "\n",
              "    [theme=dark] .colab-df-convert:hover {\n",
              "      background-color: #434B5C;\n",
              "      box-shadow: 0px 1px 3px 1px rgba(0, 0, 0, 0.15);\n",
              "      filter: drop-shadow(0px 1px 2px rgba(0, 0, 0, 0.3));\n",
              "      fill: #FFFFFF;\n",
              "    }\n",
              "  </style>\n",
              "\n",
              "    <script>\n",
              "      const buttonEl =\n",
              "        document.querySelector('#df-2733c5ce-b53d-4308-b0dd-7b44e5850027 button.colab-df-convert');\n",
              "      buttonEl.style.display =\n",
              "        google.colab.kernel.accessAllowed ? 'block' : 'none';\n",
              "\n",
              "      async function convertToInteractive(key) {\n",
              "        const element = document.querySelector('#df-2733c5ce-b53d-4308-b0dd-7b44e5850027');\n",
              "        const dataTable =\n",
              "          await google.colab.kernel.invokeFunction('convertToInteractive',\n",
              "                                                    [key], {});\n",
              "        if (!dataTable) return;\n",
              "\n",
              "        const docLinkHtml = 'Like what you see? Visit the ' +\n",
              "          '<a target=\"_blank\" href=https://colab.research.google.com/notebooks/data_table.ipynb>data table notebook</a>'\n",
              "          + ' to learn more about interactive tables.';\n",
              "        element.innerHTML = '';\n",
              "        dataTable['output_type'] = 'display_data';\n",
              "        await google.colab.output.renderOutput(dataTable, element);\n",
              "        const docLink = document.createElement('div');\n",
              "        docLink.innerHTML = docLinkHtml;\n",
              "        element.appendChild(docLink);\n",
              "      }\n",
              "    </script>\n",
              "  </div>\n",
              "\n",
              "\n",
              "<div id=\"df-4d7f5004-bdfb-41c2-b7f0-952fc2e4cdb4\">\n",
              "  <button class=\"colab-df-quickchart\" onclick=\"quickchart('df-4d7f5004-bdfb-41c2-b7f0-952fc2e4cdb4')\"\n",
              "            title=\"Suggest charts\"\n",
              "            style=\"display:none;\">\n",
              "\n",
              "<svg xmlns=\"http://www.w3.org/2000/svg\" height=\"24px\"viewBox=\"0 0 24 24\"\n",
              "     width=\"24px\">\n",
              "    <g>\n",
              "        <path d=\"M19 3H5c-1.1 0-2 .9-2 2v14c0 1.1.9 2 2 2h14c1.1 0 2-.9 2-2V5c0-1.1-.9-2-2-2zM9 17H7v-7h2v7zm4 0h-2V7h2v10zm4 0h-2v-4h2v4z\"/>\n",
              "    </g>\n",
              "</svg>\n",
              "  </button>\n",
              "\n",
              "<style>\n",
              "  .colab-df-quickchart {\n",
              "      --bg-color: #E8F0FE;\n",
              "      --fill-color: #1967D2;\n",
              "      --hover-bg-color: #E2EBFA;\n",
              "      --hover-fill-color: #174EA6;\n",
              "      --disabled-fill-color: #AAA;\n",
              "      --disabled-bg-color: #DDD;\n",
              "  }\n",
              "\n",
              "  [theme=dark] .colab-df-quickchart {\n",
              "      --bg-color: #3B4455;\n",
              "      --fill-color: #D2E3FC;\n",
              "      --hover-bg-color: #434B5C;\n",
              "      --hover-fill-color: #FFFFFF;\n",
              "      --disabled-bg-color: #3B4455;\n",
              "      --disabled-fill-color: #666;\n",
              "  }\n",
              "\n",
              "  .colab-df-quickchart {\n",
              "    background-color: var(--bg-color);\n",
              "    border: none;\n",
              "    border-radius: 50%;\n",
              "    cursor: pointer;\n",
              "    display: none;\n",
              "    fill: var(--fill-color);\n",
              "    height: 32px;\n",
              "    padding: 0;\n",
              "    width: 32px;\n",
              "  }\n",
              "\n",
              "  .colab-df-quickchart:hover {\n",
              "    background-color: var(--hover-bg-color);\n",
              "    box-shadow: 0 1px 2px rgba(60, 64, 67, 0.3), 0 1px 3px 1px rgba(60, 64, 67, 0.15);\n",
              "    fill: var(--button-hover-fill-color);\n",
              "  }\n",
              "\n",
              "  .colab-df-quickchart-complete:disabled,\n",
              "  .colab-df-quickchart-complete:disabled:hover {\n",
              "    background-color: var(--disabled-bg-color);\n",
              "    fill: var(--disabled-fill-color);\n",
              "    box-shadow: none;\n",
              "  }\n",
              "\n",
              "  .colab-df-spinner {\n",
              "    border: 2px solid var(--fill-color);\n",
              "    border-color: transparent;\n",
              "    border-bottom-color: var(--fill-color);\n",
              "    animation:\n",
              "      spin 1s steps(1) infinite;\n",
              "  }\n",
              "\n",
              "  @keyframes spin {\n",
              "    0% {\n",
              "      border-color: transparent;\n",
              "      border-bottom-color: var(--fill-color);\n",
              "      border-left-color: var(--fill-color);\n",
              "    }\n",
              "    20% {\n",
              "      border-color: transparent;\n",
              "      border-left-color: var(--fill-color);\n",
              "      border-top-color: var(--fill-color);\n",
              "    }\n",
              "    30% {\n",
              "      border-color: transparent;\n",
              "      border-left-color: var(--fill-color);\n",
              "      border-top-color: var(--fill-color);\n",
              "      border-right-color: var(--fill-color);\n",
              "    }\n",
              "    40% {\n",
              "      border-color: transparent;\n",
              "      border-right-color: var(--fill-color);\n",
              "      border-top-color: var(--fill-color);\n",
              "    }\n",
              "    60% {\n",
              "      border-color: transparent;\n",
              "      border-right-color: var(--fill-color);\n",
              "    }\n",
              "    80% {\n",
              "      border-color: transparent;\n",
              "      border-right-color: var(--fill-color);\n",
              "      border-bottom-color: var(--fill-color);\n",
              "    }\n",
              "    90% {\n",
              "      border-color: transparent;\n",
              "      border-bottom-color: var(--fill-color);\n",
              "    }\n",
              "  }\n",
              "</style>\n",
              "\n",
              "  <script>\n",
              "    async function quickchart(key) {\n",
              "      const quickchartButtonEl =\n",
              "        document.querySelector('#' + key + ' button');\n",
              "      quickchartButtonEl.disabled = true;  // To prevent multiple clicks.\n",
              "      quickchartButtonEl.classList.add('colab-df-spinner');\n",
              "      try {\n",
              "        const charts = await google.colab.kernel.invokeFunction(\n",
              "            'suggestCharts', [key], {});\n",
              "      } catch (error) {\n",
              "        console.error('Error during call to suggestCharts:', error);\n",
              "      }\n",
              "      quickchartButtonEl.classList.remove('colab-df-spinner');\n",
              "      quickchartButtonEl.classList.add('colab-df-quickchart-complete');\n",
              "    }\n",
              "    (() => {\n",
              "      let quickchartButtonEl =\n",
              "        document.querySelector('#df-4d7f5004-bdfb-41c2-b7f0-952fc2e4cdb4 button');\n",
              "      quickchartButtonEl.style.display =\n",
              "        google.colab.kernel.accessAllowed ? 'block' : 'none';\n",
              "    })();\n",
              "  </script>\n",
              "</div>\n",
              "    </div>\n",
              "  </div>\n"
            ],
            "application/vnd.google.colaboratory.intrinsic+json": {
              "type": "dataframe",
              "summary": "{\n  \"name\": \"pd\",\n  \"rows\": 2,\n  \"fields\": [\n    {\n      \"column\": \"Class\",\n      \"properties\": {\n        \"dtype\": \"number\",\n        \"std\": 0,\n        \"min\": 0,\n        \"max\": 1,\n        \"num_unique_values\": 2,\n        \"samples\": [\n          1,\n          0\n        ],\n        \"semantic_type\": \"\",\n        \"description\": \"\"\n      }\n    },\n    {\n      \"column\": 0,\n      \"properties\": {\n        \"dtype\": \"number\",\n        \"std\": 60276,\n        \"min\": 51,\n        \"max\": 85295,\n        \"num_unique_values\": 2,\n        \"samples\": [\n          51,\n          85295\n        ],\n        \"semantic_type\": \"\",\n        \"description\": \"\"\n      }\n    },\n    {\n      \"column\": 1,\n      \"properties\": {\n        \"dtype\": \"number\",\n        \"std\": 51,\n        \"min\": 12,\n        \"max\": 85,\n        \"num_unique_values\": 2,\n        \"samples\": [\n          85,\n          12\n        ],\n        \"semantic_type\": \"\",\n        \"description\": \"\"\n      }\n    }\n  ]\n}"
            }
          },
          "metadata": {},
          "execution_count": 11
        }
      ]
    },
    {
      "cell_type": "code",
      "source": [
        "51 / (85295 + 51)"
      ],
      "metadata": {
        "colab": {
          "base_uri": "https://localhost:8080/"
        },
        "id": "4oH5JGtDtC55",
        "outputId": "4c3be9a9-7fd0-4bb3-d31d-f5736a0a06a5"
      },
      "execution_count": null,
      "outputs": [
        {
          "output_type": "execute_result",
          "data": {
            "text/plain": [
              "0.0005975675485670095"
            ]
          },
          "metadata": {},
          "execution_count": 12
        }
      ]
    },
    {
      "cell_type": "code",
      "source": [
        "85/(12+85)"
      ],
      "metadata": {
        "colab": {
          "base_uri": "https://localhost:8080/"
        },
        "id": "4my9CkuUtTwz",
        "outputId": "268cf143-119b-483a-d9b2-9662e9124ee3"
      },
      "execution_count": null,
      "outputs": [
        {
          "output_type": "execute_result",
          "data": {
            "text/plain": [
              "0.8762886597938144"
            ]
          },
          "metadata": {},
          "execution_count": 13
        }
      ]
    },
    {
      "cell_type": "code",
      "source": [
        "accuracy_score(test['Class'], test['PredictedFraud'])"
      ],
      "metadata": {
        "colab": {
          "base_uri": "https://localhost:8080/"
        },
        "id": "Ot_RWNLuhnml",
        "outputId": "2db7d852-3ab2-4cf6-e292-13819dd71172"
      },
      "execution_count": null,
      "outputs": [
        {
          "output_type": "execute_result",
          "data": {
            "text/plain": [
              "0.9992626663389628"
            ]
          },
          "metadata": {},
          "execution_count": 14
        }
      ]
    },
    {
      "cell_type": "code",
      "source": [
        "#recommended by the Kaggle page to evaluate model peformance\n",
        "auprc_logit = average_precision_score(test['Class'], test['PredictedFraud'])"
      ],
      "metadata": {
        "id": "4xrtSaX4iKKy"
      },
      "execution_count": null,
      "outputs": []
    },
    {
      "cell_type": "code",
      "source": [
        "auprc_logit"
      ],
      "metadata": {
        "colab": {
          "base_uri": "https://localhost:8080/"
        },
        "id": "GOfQeRWKjf4Y",
        "outputId": "f364436a-7a06-4954-a2ed-67dc6764aa17"
      },
      "execution_count": null,
      "outputs": [
        {
          "output_type": "execute_result",
          "data": {
            "text/plain": [
              "0.5482773015253071"
            ]
          },
          "metadata": {},
          "execution_count": 16
        }
      ]
    },
    {
      "cell_type": "code",
      "source": [
        "#This is a test function to try differnt logit regression functions\n",
        "\n",
        "logit_regression_test = smf.logit(\"Class ~ V1 + V4 + V6 + V7 + V8 + V10 + V13 + V14 + V16 + V19 + V20 + V21 + V22 + V27 + V28 + Amount\", data = train)\n",
        "logit_results_test = logit_regression_test.fit()\n",
        "print(logit_results_test.summary())\n",
        "\n",
        "test['PredictedFraud_test'] = (logit_results_test.predict(test) > 0.5).astype(int)\n",
        "pd.crosstab(test['Class'], test['PredictedFraud_test'])\n",
        "\n",
        "print(accuracy_score(test['Class'], test['PredictedFraud_test']))\n",
        "auprc_logit_test = average_precision_score(test['Class'], test['PredictedFraud_test'])\n",
        "print(auprc_logit_test)"
      ],
      "metadata": {
        "colab": {
          "base_uri": "https://localhost:8080/"
        },
        "id": "C4SpbvVynaV-",
        "outputId": "aafa8431-7f73-4954-9d83-8dd0cb52bec7"
      },
      "execution_count": null,
      "outputs": [
        {
          "output_type": "stream",
          "name": "stdout",
          "text": [
            "Optimization terminated successfully.\n",
            "         Current function value: 0.004149\n",
            "         Iterations 13\n",
            "                           Logit Regression Results                           \n",
            "==============================================================================\n",
            "Dep. Variable:                  Class   No. Observations:               199364\n",
            "Model:                          Logit   Df Residuals:                   199347\n",
            "Method:                           MLE   Df Model:                           16\n",
            "Date:                Tue, 12 Mar 2024   Pseudo R-squ.:                  0.6829\n",
            "Time:                        03:59:52   Log-Likelihood:                -827.19\n",
            "converged:                       True   LL-Null:                       -2608.4\n",
            "Covariance Type:            nonrobust   LLR p-value:                     0.000\n",
            "==============================================================================\n",
            "                 coef    std err          z      P>|z|      [0.025      0.975]\n",
            "------------------------------------------------------------------------------\n",
            "Intercept     -8.5632      0.151    -56.534      0.000      -8.860      -8.266\n",
            "V1             0.1038      0.041      2.542      0.011       0.024       0.184\n",
            "V4             0.7444      0.067     11.078      0.000       0.613       0.876\n",
            "V6            -0.1836      0.058     -3.146      0.002      -0.298      -0.069\n",
            "V7            -0.0918      0.063     -1.465      0.143      -0.215       0.031\n",
            "V8            -0.2067      0.029     -7.079      0.000      -0.264      -0.149\n",
            "V10           -0.5998      0.094     -6.353      0.000      -0.785      -0.415\n",
            "V13           -0.2552      0.091     -2.804      0.005      -0.434      -0.077\n",
            "V14           -0.5772      0.062     -9.334      0.000      -0.698      -0.456\n",
            "V16           -0.2897      0.082     -3.534      0.000      -0.450      -0.129\n",
            "V19           -0.0405      0.096     -0.421      0.674      -0.229       0.148\n",
            "V20           -0.3367      0.076     -4.410      0.000      -0.486      -0.187\n",
            "V21            0.3208      0.060      5.345      0.000       0.203       0.438\n",
            "V22            0.5451      0.136      3.997      0.000       0.278       0.812\n",
            "V27           -0.7209      0.134     -5.377      0.000      -0.984      -0.458\n",
            "V28           -0.3758      0.106     -3.545      0.000      -0.584      -0.168\n",
            "Amount         0.1607      0.075      2.136      0.033       0.013       0.308\n",
            "==============================================================================\n",
            "\n",
            "Possibly complete quasi-separation: A fraction 0.30 of observations can be\n",
            "perfectly predicted. This might indicate that there is complete\n",
            "quasi-separation. In this case some parameters will not be identified.\n",
            "0.9992626663389628\n",
            "0.5516072615849353\n"
          ]
        }
      ]
    },
    {
      "cell_type": "markdown",
      "source": [
        "###CART Model"
      ],
      "metadata": {
        "id": "mfYk5U10kSJw"
      }
    },
    {
      "cell_type": "code",
      "source": [
        "dt_10=DecisionTreeClassifier(min_samples_leaf=10)\n",
        "dt_10.fit(x_train, y_train)"
      ],
      "metadata": {
        "colab": {
          "base_uri": "https://localhost:8080/",
          "height": 75
        },
        "id": "_8xeOd0okR4k",
        "outputId": "3497ac72-c85b-42f0-f26b-0b8acda6184c"
      },
      "execution_count": null,
      "outputs": [
        {
          "output_type": "execute_result",
          "data": {
            "text/plain": [
              "DecisionTreeClassifier(min_samples_leaf=10)"
            ],
            "text/html": [
              "<style>#sk-container-id-1 {color: black;background-color: white;}#sk-container-id-1 pre{padding: 0;}#sk-container-id-1 div.sk-toggleable {background-color: white;}#sk-container-id-1 label.sk-toggleable__label {cursor: pointer;display: block;width: 100%;margin-bottom: 0;padding: 0.3em;box-sizing: border-box;text-align: center;}#sk-container-id-1 label.sk-toggleable__label-arrow:before {content: \"▸\";float: left;margin-right: 0.25em;color: #696969;}#sk-container-id-1 label.sk-toggleable__label-arrow:hover:before {color: black;}#sk-container-id-1 div.sk-estimator:hover label.sk-toggleable__label-arrow:before {color: black;}#sk-container-id-1 div.sk-toggleable__content {max-height: 0;max-width: 0;overflow: hidden;text-align: left;background-color: #f0f8ff;}#sk-container-id-1 div.sk-toggleable__content pre {margin: 0.2em;color: black;border-radius: 0.25em;background-color: #f0f8ff;}#sk-container-id-1 input.sk-toggleable__control:checked~div.sk-toggleable__content {max-height: 200px;max-width: 100%;overflow: auto;}#sk-container-id-1 input.sk-toggleable__control:checked~label.sk-toggleable__label-arrow:before {content: \"▾\";}#sk-container-id-1 div.sk-estimator input.sk-toggleable__control:checked~label.sk-toggleable__label {background-color: #d4ebff;}#sk-container-id-1 div.sk-label input.sk-toggleable__control:checked~label.sk-toggleable__label {background-color: #d4ebff;}#sk-container-id-1 input.sk-hidden--visually {border: 0;clip: rect(1px 1px 1px 1px);clip: rect(1px, 1px, 1px, 1px);height: 1px;margin: -1px;overflow: hidden;padding: 0;position: absolute;width: 1px;}#sk-container-id-1 div.sk-estimator {font-family: monospace;background-color: #f0f8ff;border: 1px dotted black;border-radius: 0.25em;box-sizing: border-box;margin-bottom: 0.5em;}#sk-container-id-1 div.sk-estimator:hover {background-color: #d4ebff;}#sk-container-id-1 div.sk-parallel-item::after {content: \"\";width: 100%;border-bottom: 1px solid gray;flex-grow: 1;}#sk-container-id-1 div.sk-label:hover label.sk-toggleable__label {background-color: #d4ebff;}#sk-container-id-1 div.sk-serial::before {content: \"\";position: absolute;border-left: 1px solid gray;box-sizing: border-box;top: 0;bottom: 0;left: 50%;z-index: 0;}#sk-container-id-1 div.sk-serial {display: flex;flex-direction: column;align-items: center;background-color: white;padding-right: 0.2em;padding-left: 0.2em;position: relative;}#sk-container-id-1 div.sk-item {position: relative;z-index: 1;}#sk-container-id-1 div.sk-parallel {display: flex;align-items: stretch;justify-content: center;background-color: white;position: relative;}#sk-container-id-1 div.sk-item::before, #sk-container-id-1 div.sk-parallel-item::before {content: \"\";position: absolute;border-left: 1px solid gray;box-sizing: border-box;top: 0;bottom: 0;left: 50%;z-index: -1;}#sk-container-id-1 div.sk-parallel-item {display: flex;flex-direction: column;z-index: 1;position: relative;background-color: white;}#sk-container-id-1 div.sk-parallel-item:first-child::after {align-self: flex-end;width: 50%;}#sk-container-id-1 div.sk-parallel-item:last-child::after {align-self: flex-start;width: 50%;}#sk-container-id-1 div.sk-parallel-item:only-child::after {width: 0;}#sk-container-id-1 div.sk-dashed-wrapped {border: 1px dashed gray;margin: 0 0.4em 0.5em 0.4em;box-sizing: border-box;padding-bottom: 0.4em;background-color: white;}#sk-container-id-1 div.sk-label label {font-family: monospace;font-weight: bold;display: inline-block;line-height: 1.2em;}#sk-container-id-1 div.sk-label-container {text-align: center;}#sk-container-id-1 div.sk-container {/* jupyter's `normalize.less` sets `[hidden] { display: none; }` but bootstrap.min.css set `[hidden] { display: none !important; }` so we also need the `!important` here to be able to override the default hidden behavior on the sphinx rendered scikit-learn.org. See: https://github.com/scikit-learn/scikit-learn/issues/21755 */display: inline-block !important;position: relative;}#sk-container-id-1 div.sk-text-repr-fallback {display: none;}</style><div id=\"sk-container-id-1\" class=\"sk-top-container\"><div class=\"sk-text-repr-fallback\"><pre>DecisionTreeClassifier(min_samples_leaf=10)</pre><b>In a Jupyter environment, please rerun this cell to show the HTML representation or trust the notebook. <br />On GitHub, the HTML representation is unable to render, please try loading this page with nbviewer.org.</b></div><div class=\"sk-container\" hidden><div class=\"sk-item\"><div class=\"sk-estimator sk-toggleable\"><input class=\"sk-toggleable__control sk-hidden--visually\" id=\"sk-estimator-id-1\" type=\"checkbox\" checked><label for=\"sk-estimator-id-1\" class=\"sk-toggleable__label sk-toggleable__label-arrow\">DecisionTreeClassifier</label><div class=\"sk-toggleable__content\"><pre>DecisionTreeClassifier(min_samples_leaf=10)</pre></div></div></div></div></div>"
            ]
          },
          "metadata": {},
          "execution_count": 18
        }
      ]
    },
    {
      "cell_type": "code",
      "source": [
        "dt_50=DecisionTreeClassifier(min_samples_leaf=50)\n",
        "dt_50.fit(x_train, y_train)"
      ],
      "metadata": {
        "colab": {
          "base_uri": "https://localhost:8080/",
          "height": 75
        },
        "id": "OtuhTRs_jj7y",
        "outputId": "9850f732-792a-4ac7-88c9-fcdca8e5f61b"
      },
      "execution_count": null,
      "outputs": [
        {
          "output_type": "execute_result",
          "data": {
            "text/plain": [
              "DecisionTreeClassifier(min_samples_leaf=50)"
            ],
            "text/html": [
              "<style>#sk-container-id-2 {color: black;background-color: white;}#sk-container-id-2 pre{padding: 0;}#sk-container-id-2 div.sk-toggleable {background-color: white;}#sk-container-id-2 label.sk-toggleable__label {cursor: pointer;display: block;width: 100%;margin-bottom: 0;padding: 0.3em;box-sizing: border-box;text-align: center;}#sk-container-id-2 label.sk-toggleable__label-arrow:before {content: \"▸\";float: left;margin-right: 0.25em;color: #696969;}#sk-container-id-2 label.sk-toggleable__label-arrow:hover:before {color: black;}#sk-container-id-2 div.sk-estimator:hover label.sk-toggleable__label-arrow:before {color: black;}#sk-container-id-2 div.sk-toggleable__content {max-height: 0;max-width: 0;overflow: hidden;text-align: left;background-color: #f0f8ff;}#sk-container-id-2 div.sk-toggleable__content pre {margin: 0.2em;color: black;border-radius: 0.25em;background-color: #f0f8ff;}#sk-container-id-2 input.sk-toggleable__control:checked~div.sk-toggleable__content {max-height: 200px;max-width: 100%;overflow: auto;}#sk-container-id-2 input.sk-toggleable__control:checked~label.sk-toggleable__label-arrow:before {content: \"▾\";}#sk-container-id-2 div.sk-estimator input.sk-toggleable__control:checked~label.sk-toggleable__label {background-color: #d4ebff;}#sk-container-id-2 div.sk-label input.sk-toggleable__control:checked~label.sk-toggleable__label {background-color: #d4ebff;}#sk-container-id-2 input.sk-hidden--visually {border: 0;clip: rect(1px 1px 1px 1px);clip: rect(1px, 1px, 1px, 1px);height: 1px;margin: -1px;overflow: hidden;padding: 0;position: absolute;width: 1px;}#sk-container-id-2 div.sk-estimator {font-family: monospace;background-color: #f0f8ff;border: 1px dotted black;border-radius: 0.25em;box-sizing: border-box;margin-bottom: 0.5em;}#sk-container-id-2 div.sk-estimator:hover {background-color: #d4ebff;}#sk-container-id-2 div.sk-parallel-item::after {content: \"\";width: 100%;border-bottom: 1px solid gray;flex-grow: 1;}#sk-container-id-2 div.sk-label:hover label.sk-toggleable__label {background-color: #d4ebff;}#sk-container-id-2 div.sk-serial::before {content: \"\";position: absolute;border-left: 1px solid gray;box-sizing: border-box;top: 0;bottom: 0;left: 50%;z-index: 0;}#sk-container-id-2 div.sk-serial {display: flex;flex-direction: column;align-items: center;background-color: white;padding-right: 0.2em;padding-left: 0.2em;position: relative;}#sk-container-id-2 div.sk-item {position: relative;z-index: 1;}#sk-container-id-2 div.sk-parallel {display: flex;align-items: stretch;justify-content: center;background-color: white;position: relative;}#sk-container-id-2 div.sk-item::before, #sk-container-id-2 div.sk-parallel-item::before {content: \"\";position: absolute;border-left: 1px solid gray;box-sizing: border-box;top: 0;bottom: 0;left: 50%;z-index: -1;}#sk-container-id-2 div.sk-parallel-item {display: flex;flex-direction: column;z-index: 1;position: relative;background-color: white;}#sk-container-id-2 div.sk-parallel-item:first-child::after {align-self: flex-end;width: 50%;}#sk-container-id-2 div.sk-parallel-item:last-child::after {align-self: flex-start;width: 50%;}#sk-container-id-2 div.sk-parallel-item:only-child::after {width: 0;}#sk-container-id-2 div.sk-dashed-wrapped {border: 1px dashed gray;margin: 0 0.4em 0.5em 0.4em;box-sizing: border-box;padding-bottom: 0.4em;background-color: white;}#sk-container-id-2 div.sk-label label {font-family: monospace;font-weight: bold;display: inline-block;line-height: 1.2em;}#sk-container-id-2 div.sk-label-container {text-align: center;}#sk-container-id-2 div.sk-container {/* jupyter's `normalize.less` sets `[hidden] { display: none; }` but bootstrap.min.css set `[hidden] { display: none !important; }` so we also need the `!important` here to be able to override the default hidden behavior on the sphinx rendered scikit-learn.org. See: https://github.com/scikit-learn/scikit-learn/issues/21755 */display: inline-block !important;position: relative;}#sk-container-id-2 div.sk-text-repr-fallback {display: none;}</style><div id=\"sk-container-id-2\" class=\"sk-top-container\"><div class=\"sk-text-repr-fallback\"><pre>DecisionTreeClassifier(min_samples_leaf=50)</pre><b>In a Jupyter environment, please rerun this cell to show the HTML representation or trust the notebook. <br />On GitHub, the HTML representation is unable to render, please try loading this page with nbviewer.org.</b></div><div class=\"sk-container\" hidden><div class=\"sk-item\"><div class=\"sk-estimator sk-toggleable\"><input class=\"sk-toggleable__control sk-hidden--visually\" id=\"sk-estimator-id-2\" type=\"checkbox\" checked><label for=\"sk-estimator-id-2\" class=\"sk-toggleable__label sk-toggleable__label-arrow\">DecisionTreeClassifier</label><div class=\"sk-toggleable__content\"><pre>DecisionTreeClassifier(min_samples_leaf=50)</pre></div></div></div></div></div>"
            ]
          },
          "metadata": {},
          "execution_count": 19
        }
      ]
    },
    {
      "cell_type": "code",
      "source": [
        "dt_100=DecisionTreeClassifier(min_samples_leaf=100)\n",
        "dt_100.fit(x_train, y_train)"
      ],
      "metadata": {
        "colab": {
          "base_uri": "https://localhost:8080/",
          "height": 75
        },
        "id": "1JuxzZe_lDQb",
        "outputId": "213e5a66-2652-424c-f452-5dfbae1547df"
      },
      "execution_count": null,
      "outputs": [
        {
          "output_type": "execute_result",
          "data": {
            "text/plain": [
              "DecisionTreeClassifier(min_samples_leaf=100)"
            ],
            "text/html": [
              "<style>#sk-container-id-3 {color: black;background-color: white;}#sk-container-id-3 pre{padding: 0;}#sk-container-id-3 div.sk-toggleable {background-color: white;}#sk-container-id-3 label.sk-toggleable__label {cursor: pointer;display: block;width: 100%;margin-bottom: 0;padding: 0.3em;box-sizing: border-box;text-align: center;}#sk-container-id-3 label.sk-toggleable__label-arrow:before {content: \"▸\";float: left;margin-right: 0.25em;color: #696969;}#sk-container-id-3 label.sk-toggleable__label-arrow:hover:before {color: black;}#sk-container-id-3 div.sk-estimator:hover label.sk-toggleable__label-arrow:before {color: black;}#sk-container-id-3 div.sk-toggleable__content {max-height: 0;max-width: 0;overflow: hidden;text-align: left;background-color: #f0f8ff;}#sk-container-id-3 div.sk-toggleable__content pre {margin: 0.2em;color: black;border-radius: 0.25em;background-color: #f0f8ff;}#sk-container-id-3 input.sk-toggleable__control:checked~div.sk-toggleable__content {max-height: 200px;max-width: 100%;overflow: auto;}#sk-container-id-3 input.sk-toggleable__control:checked~label.sk-toggleable__label-arrow:before {content: \"▾\";}#sk-container-id-3 div.sk-estimator input.sk-toggleable__control:checked~label.sk-toggleable__label {background-color: #d4ebff;}#sk-container-id-3 div.sk-label input.sk-toggleable__control:checked~label.sk-toggleable__label {background-color: #d4ebff;}#sk-container-id-3 input.sk-hidden--visually {border: 0;clip: rect(1px 1px 1px 1px);clip: rect(1px, 1px, 1px, 1px);height: 1px;margin: -1px;overflow: hidden;padding: 0;position: absolute;width: 1px;}#sk-container-id-3 div.sk-estimator {font-family: monospace;background-color: #f0f8ff;border: 1px dotted black;border-radius: 0.25em;box-sizing: border-box;margin-bottom: 0.5em;}#sk-container-id-3 div.sk-estimator:hover {background-color: #d4ebff;}#sk-container-id-3 div.sk-parallel-item::after {content: \"\";width: 100%;border-bottom: 1px solid gray;flex-grow: 1;}#sk-container-id-3 div.sk-label:hover label.sk-toggleable__label {background-color: #d4ebff;}#sk-container-id-3 div.sk-serial::before {content: \"\";position: absolute;border-left: 1px solid gray;box-sizing: border-box;top: 0;bottom: 0;left: 50%;z-index: 0;}#sk-container-id-3 div.sk-serial {display: flex;flex-direction: column;align-items: center;background-color: white;padding-right: 0.2em;padding-left: 0.2em;position: relative;}#sk-container-id-3 div.sk-item {position: relative;z-index: 1;}#sk-container-id-3 div.sk-parallel {display: flex;align-items: stretch;justify-content: center;background-color: white;position: relative;}#sk-container-id-3 div.sk-item::before, #sk-container-id-3 div.sk-parallel-item::before {content: \"\";position: absolute;border-left: 1px solid gray;box-sizing: border-box;top: 0;bottom: 0;left: 50%;z-index: -1;}#sk-container-id-3 div.sk-parallel-item {display: flex;flex-direction: column;z-index: 1;position: relative;background-color: white;}#sk-container-id-3 div.sk-parallel-item:first-child::after {align-self: flex-end;width: 50%;}#sk-container-id-3 div.sk-parallel-item:last-child::after {align-self: flex-start;width: 50%;}#sk-container-id-3 div.sk-parallel-item:only-child::after {width: 0;}#sk-container-id-3 div.sk-dashed-wrapped {border: 1px dashed gray;margin: 0 0.4em 0.5em 0.4em;box-sizing: border-box;padding-bottom: 0.4em;background-color: white;}#sk-container-id-3 div.sk-label label {font-family: monospace;font-weight: bold;display: inline-block;line-height: 1.2em;}#sk-container-id-3 div.sk-label-container {text-align: center;}#sk-container-id-3 div.sk-container {/* jupyter's `normalize.less` sets `[hidden] { display: none; }` but bootstrap.min.css set `[hidden] { display: none !important; }` so we also need the `!important` here to be able to override the default hidden behavior on the sphinx rendered scikit-learn.org. See: https://github.com/scikit-learn/scikit-learn/issues/21755 */display: inline-block !important;position: relative;}#sk-container-id-3 div.sk-text-repr-fallback {display: none;}</style><div id=\"sk-container-id-3\" class=\"sk-top-container\"><div class=\"sk-text-repr-fallback\"><pre>DecisionTreeClassifier(min_samples_leaf=100)</pre><b>In a Jupyter environment, please rerun this cell to show the HTML representation or trust the notebook. <br />On GitHub, the HTML representation is unable to render, please try loading this page with nbviewer.org.</b></div><div class=\"sk-container\" hidden><div class=\"sk-item\"><div class=\"sk-estimator sk-toggleable\"><input class=\"sk-toggleable__control sk-hidden--visually\" id=\"sk-estimator-id-3\" type=\"checkbox\" checked><label for=\"sk-estimator-id-3\" class=\"sk-toggleable__label sk-toggleable__label-arrow\">DecisionTreeClassifier</label><div class=\"sk-toggleable__content\"><pre>DecisionTreeClassifier(min_samples_leaf=100)</pre></div></div></div></div></div>"
            ]
          },
          "metadata": {},
          "execution_count": 20
        }
      ]
    },
    {
      "cell_type": "code",
      "source": [
        "dt_test = DecisionTreeClassifier(min_samples_leaf=9)\n",
        "dt_test.fit(x_train, y_train)"
      ],
      "metadata": {
        "colab": {
          "base_uri": "https://localhost:8080/",
          "height": 75
        },
        "id": "9O6G0aKxzSCB",
        "outputId": "f97692ed-4267-47db-ecc8-264fbb940bd1"
      },
      "execution_count": null,
      "outputs": [
        {
          "output_type": "execute_result",
          "data": {
            "text/plain": [
              "DecisionTreeClassifier(min_samples_leaf=9)"
            ],
            "text/html": [
              "<style>#sk-container-id-4 {color: black;background-color: white;}#sk-container-id-4 pre{padding: 0;}#sk-container-id-4 div.sk-toggleable {background-color: white;}#sk-container-id-4 label.sk-toggleable__label {cursor: pointer;display: block;width: 100%;margin-bottom: 0;padding: 0.3em;box-sizing: border-box;text-align: center;}#sk-container-id-4 label.sk-toggleable__label-arrow:before {content: \"▸\";float: left;margin-right: 0.25em;color: #696969;}#sk-container-id-4 label.sk-toggleable__label-arrow:hover:before {color: black;}#sk-container-id-4 div.sk-estimator:hover label.sk-toggleable__label-arrow:before {color: black;}#sk-container-id-4 div.sk-toggleable__content {max-height: 0;max-width: 0;overflow: hidden;text-align: left;background-color: #f0f8ff;}#sk-container-id-4 div.sk-toggleable__content pre {margin: 0.2em;color: black;border-radius: 0.25em;background-color: #f0f8ff;}#sk-container-id-4 input.sk-toggleable__control:checked~div.sk-toggleable__content {max-height: 200px;max-width: 100%;overflow: auto;}#sk-container-id-4 input.sk-toggleable__control:checked~label.sk-toggleable__label-arrow:before {content: \"▾\";}#sk-container-id-4 div.sk-estimator input.sk-toggleable__control:checked~label.sk-toggleable__label {background-color: #d4ebff;}#sk-container-id-4 div.sk-label input.sk-toggleable__control:checked~label.sk-toggleable__label {background-color: #d4ebff;}#sk-container-id-4 input.sk-hidden--visually {border: 0;clip: rect(1px 1px 1px 1px);clip: rect(1px, 1px, 1px, 1px);height: 1px;margin: -1px;overflow: hidden;padding: 0;position: absolute;width: 1px;}#sk-container-id-4 div.sk-estimator {font-family: monospace;background-color: #f0f8ff;border: 1px dotted black;border-radius: 0.25em;box-sizing: border-box;margin-bottom: 0.5em;}#sk-container-id-4 div.sk-estimator:hover {background-color: #d4ebff;}#sk-container-id-4 div.sk-parallel-item::after {content: \"\";width: 100%;border-bottom: 1px solid gray;flex-grow: 1;}#sk-container-id-4 div.sk-label:hover label.sk-toggleable__label {background-color: #d4ebff;}#sk-container-id-4 div.sk-serial::before {content: \"\";position: absolute;border-left: 1px solid gray;box-sizing: border-box;top: 0;bottom: 0;left: 50%;z-index: 0;}#sk-container-id-4 div.sk-serial {display: flex;flex-direction: column;align-items: center;background-color: white;padding-right: 0.2em;padding-left: 0.2em;position: relative;}#sk-container-id-4 div.sk-item {position: relative;z-index: 1;}#sk-container-id-4 div.sk-parallel {display: flex;align-items: stretch;justify-content: center;background-color: white;position: relative;}#sk-container-id-4 div.sk-item::before, #sk-container-id-4 div.sk-parallel-item::before {content: \"\";position: absolute;border-left: 1px solid gray;box-sizing: border-box;top: 0;bottom: 0;left: 50%;z-index: -1;}#sk-container-id-4 div.sk-parallel-item {display: flex;flex-direction: column;z-index: 1;position: relative;background-color: white;}#sk-container-id-4 div.sk-parallel-item:first-child::after {align-self: flex-end;width: 50%;}#sk-container-id-4 div.sk-parallel-item:last-child::after {align-self: flex-start;width: 50%;}#sk-container-id-4 div.sk-parallel-item:only-child::after {width: 0;}#sk-container-id-4 div.sk-dashed-wrapped {border: 1px dashed gray;margin: 0 0.4em 0.5em 0.4em;box-sizing: border-box;padding-bottom: 0.4em;background-color: white;}#sk-container-id-4 div.sk-label label {font-family: monospace;font-weight: bold;display: inline-block;line-height: 1.2em;}#sk-container-id-4 div.sk-label-container {text-align: center;}#sk-container-id-4 div.sk-container {/* jupyter's `normalize.less` sets `[hidden] { display: none; }` but bootstrap.min.css set `[hidden] { display: none !important; }` so we also need the `!important` here to be able to override the default hidden behavior on the sphinx rendered scikit-learn.org. See: https://github.com/scikit-learn/scikit-learn/issues/21755 */display: inline-block !important;position: relative;}#sk-container-id-4 div.sk-text-repr-fallback {display: none;}</style><div id=\"sk-container-id-4\" class=\"sk-top-container\"><div class=\"sk-text-repr-fallback\"><pre>DecisionTreeClassifier(min_samples_leaf=9)</pre><b>In a Jupyter environment, please rerun this cell to show the HTML representation or trust the notebook. <br />On GitHub, the HTML representation is unable to render, please try loading this page with nbviewer.org.</b></div><div class=\"sk-container\" hidden><div class=\"sk-item\"><div class=\"sk-estimator sk-toggleable\"><input class=\"sk-toggleable__control sk-hidden--visually\" id=\"sk-estimator-id-4\" type=\"checkbox\" checked><label for=\"sk-estimator-id-4\" class=\"sk-toggleable__label sk-toggleable__label-arrow\">DecisionTreeClassifier</label><div class=\"sk-toggleable__content\"><pre>DecisionTreeClassifier(min_samples_leaf=9)</pre></div></div></div></div></div>"
            ]
          },
          "metadata": {},
          "execution_count": 21
        }
      ]
    },
    {
      "cell_type": "code",
      "source": [
        "y_pred_test=dt_test.predict(x_test)\n",
        "accuracy_cart_test = accuracy_score(y_test, y_pred_test)\n",
        "accuracy_cart_test"
      ],
      "metadata": {
        "colab": {
          "base_uri": "https://localhost:8080/"
        },
        "id": "SobKTOd4zcBN",
        "outputId": "a40bb5f2-a1e5-42c9-b0fa-18f28512aec2"
      },
      "execution_count": null,
      "outputs": [
        {
          "output_type": "execute_result",
          "data": {
            "text/plain": [
              "0.9995435553526912"
            ]
          },
          "metadata": {},
          "execution_count": 22
        }
      ]
    },
    {
      "cell_type": "code",
      "source": [
        "auprc_CART_test = average_precision_score(test['Class'], y_pred_test)\n",
        "auprc_CART_test"
      ],
      "metadata": {
        "colab": {
          "base_uri": "https://localhost:8080/"
        },
        "id": "5pupD4Hi0Wrm",
        "outputId": "39df7c56-8a7a-4b3e-d12e-eaaeb347a37b"
      },
      "execution_count": null,
      "outputs": [
        {
          "output_type": "execute_result",
          "data": {
            "text/plain": [
              "0.7223019019391805"
            ]
          },
          "metadata": {},
          "execution_count": 23
        }
      ]
    },
    {
      "cell_type": "code",
      "source": [
        "pd.crosstab(test['Class'], y_pred_test)"
      ],
      "metadata": {
        "colab": {
          "base_uri": "https://localhost:8080/",
          "height": 143
        },
        "id": "g5ggJ5Ov1vZu",
        "outputId": "6324f00d-e36f-45cc-d8f8-c827fe61d4d5"
      },
      "execution_count": null,
      "outputs": [
        {
          "output_type": "execute_result",
          "data": {
            "text/plain": [
              "col_0      0    1\n",
              "Class            \n",
              "0      85295   12\n",
              "1         27  109"
            ],
            "text/html": [
              "\n",
              "  <div id=\"df-57e6eb27-e2f1-4468-9672-502ef35ff03d\" class=\"colab-df-container\">\n",
              "    <div>\n",
              "<style scoped>\n",
              "    .dataframe tbody tr th:only-of-type {\n",
              "        vertical-align: middle;\n",
              "    }\n",
              "\n",
              "    .dataframe tbody tr th {\n",
              "        vertical-align: top;\n",
              "    }\n",
              "\n",
              "    .dataframe thead th {\n",
              "        text-align: right;\n",
              "    }\n",
              "</style>\n",
              "<table border=\"1\" class=\"dataframe\">\n",
              "  <thead>\n",
              "    <tr style=\"text-align: right;\">\n",
              "      <th>col_0</th>\n",
              "      <th>0</th>\n",
              "      <th>1</th>\n",
              "    </tr>\n",
              "    <tr>\n",
              "      <th>Class</th>\n",
              "      <th></th>\n",
              "      <th></th>\n",
              "    </tr>\n",
              "  </thead>\n",
              "  <tbody>\n",
              "    <tr>\n",
              "      <th>0</th>\n",
              "      <td>85295</td>\n",
              "      <td>12</td>\n",
              "    </tr>\n",
              "    <tr>\n",
              "      <th>1</th>\n",
              "      <td>27</td>\n",
              "      <td>109</td>\n",
              "    </tr>\n",
              "  </tbody>\n",
              "</table>\n",
              "</div>\n",
              "    <div class=\"colab-df-buttons\">\n",
              "\n",
              "  <div class=\"colab-df-container\">\n",
              "    <button class=\"colab-df-convert\" onclick=\"convertToInteractive('df-57e6eb27-e2f1-4468-9672-502ef35ff03d')\"\n",
              "            title=\"Convert this dataframe to an interactive table.\"\n",
              "            style=\"display:none;\">\n",
              "\n",
              "  <svg xmlns=\"http://www.w3.org/2000/svg\" height=\"24px\" viewBox=\"0 -960 960 960\">\n",
              "    <path d=\"M120-120v-720h720v720H120Zm60-500h600v-160H180v160Zm220 220h160v-160H400v160Zm0 220h160v-160H400v160ZM180-400h160v-160H180v160Zm440 0h160v-160H620v160ZM180-180h160v-160H180v160Zm440 0h160v-160H620v160Z\"/>\n",
              "  </svg>\n",
              "    </button>\n",
              "\n",
              "  <style>\n",
              "    .colab-df-container {\n",
              "      display:flex;\n",
              "      gap: 12px;\n",
              "    }\n",
              "\n",
              "    .colab-df-convert {\n",
              "      background-color: #E8F0FE;\n",
              "      border: none;\n",
              "      border-radius: 50%;\n",
              "      cursor: pointer;\n",
              "      display: none;\n",
              "      fill: #1967D2;\n",
              "      height: 32px;\n",
              "      padding: 0 0 0 0;\n",
              "      width: 32px;\n",
              "    }\n",
              "\n",
              "    .colab-df-convert:hover {\n",
              "      background-color: #E2EBFA;\n",
              "      box-shadow: 0px 1px 2px rgba(60, 64, 67, 0.3), 0px 1px 3px 1px rgba(60, 64, 67, 0.15);\n",
              "      fill: #174EA6;\n",
              "    }\n",
              "\n",
              "    .colab-df-buttons div {\n",
              "      margin-bottom: 4px;\n",
              "    }\n",
              "\n",
              "    [theme=dark] .colab-df-convert {\n",
              "      background-color: #3B4455;\n",
              "      fill: #D2E3FC;\n",
              "    }\n",
              "\n",
              "    [theme=dark] .colab-df-convert:hover {\n",
              "      background-color: #434B5C;\n",
              "      box-shadow: 0px 1px 3px 1px rgba(0, 0, 0, 0.15);\n",
              "      filter: drop-shadow(0px 1px 2px rgba(0, 0, 0, 0.3));\n",
              "      fill: #FFFFFF;\n",
              "    }\n",
              "  </style>\n",
              "\n",
              "    <script>\n",
              "      const buttonEl =\n",
              "        document.querySelector('#df-57e6eb27-e2f1-4468-9672-502ef35ff03d button.colab-df-convert');\n",
              "      buttonEl.style.display =\n",
              "        google.colab.kernel.accessAllowed ? 'block' : 'none';\n",
              "\n",
              "      async function convertToInteractive(key) {\n",
              "        const element = document.querySelector('#df-57e6eb27-e2f1-4468-9672-502ef35ff03d');\n",
              "        const dataTable =\n",
              "          await google.colab.kernel.invokeFunction('convertToInteractive',\n",
              "                                                    [key], {});\n",
              "        if (!dataTable) return;\n",
              "\n",
              "        const docLinkHtml = 'Like what you see? Visit the ' +\n",
              "          '<a target=\"_blank\" href=https://colab.research.google.com/notebooks/data_table.ipynb>data table notebook</a>'\n",
              "          + ' to learn more about interactive tables.';\n",
              "        element.innerHTML = '';\n",
              "        dataTable['output_type'] = 'display_data';\n",
              "        await google.colab.output.renderOutput(dataTable, element);\n",
              "        const docLink = document.createElement('div');\n",
              "        docLink.innerHTML = docLinkHtml;\n",
              "        element.appendChild(docLink);\n",
              "      }\n",
              "    </script>\n",
              "  </div>\n",
              "\n",
              "\n",
              "<div id=\"df-56abb54f-6f90-4a71-89b8-df8bbbde11fe\">\n",
              "  <button class=\"colab-df-quickchart\" onclick=\"quickchart('df-56abb54f-6f90-4a71-89b8-df8bbbde11fe')\"\n",
              "            title=\"Suggest charts\"\n",
              "            style=\"display:none;\">\n",
              "\n",
              "<svg xmlns=\"http://www.w3.org/2000/svg\" height=\"24px\"viewBox=\"0 0 24 24\"\n",
              "     width=\"24px\">\n",
              "    <g>\n",
              "        <path d=\"M19 3H5c-1.1 0-2 .9-2 2v14c0 1.1.9 2 2 2h14c1.1 0 2-.9 2-2V5c0-1.1-.9-2-2-2zM9 17H7v-7h2v7zm4 0h-2V7h2v10zm4 0h-2v-4h2v4z\"/>\n",
              "    </g>\n",
              "</svg>\n",
              "  </button>\n",
              "\n",
              "<style>\n",
              "  .colab-df-quickchart {\n",
              "      --bg-color: #E8F0FE;\n",
              "      --fill-color: #1967D2;\n",
              "      --hover-bg-color: #E2EBFA;\n",
              "      --hover-fill-color: #174EA6;\n",
              "      --disabled-fill-color: #AAA;\n",
              "      --disabled-bg-color: #DDD;\n",
              "  }\n",
              "\n",
              "  [theme=dark] .colab-df-quickchart {\n",
              "      --bg-color: #3B4455;\n",
              "      --fill-color: #D2E3FC;\n",
              "      --hover-bg-color: #434B5C;\n",
              "      --hover-fill-color: #FFFFFF;\n",
              "      --disabled-bg-color: #3B4455;\n",
              "      --disabled-fill-color: #666;\n",
              "  }\n",
              "\n",
              "  .colab-df-quickchart {\n",
              "    background-color: var(--bg-color);\n",
              "    border: none;\n",
              "    border-radius: 50%;\n",
              "    cursor: pointer;\n",
              "    display: none;\n",
              "    fill: var(--fill-color);\n",
              "    height: 32px;\n",
              "    padding: 0;\n",
              "    width: 32px;\n",
              "  }\n",
              "\n",
              "  .colab-df-quickchart:hover {\n",
              "    background-color: var(--hover-bg-color);\n",
              "    box-shadow: 0 1px 2px rgba(60, 64, 67, 0.3), 0 1px 3px 1px rgba(60, 64, 67, 0.15);\n",
              "    fill: var(--button-hover-fill-color);\n",
              "  }\n",
              "\n",
              "  .colab-df-quickchart-complete:disabled,\n",
              "  .colab-df-quickchart-complete:disabled:hover {\n",
              "    background-color: var(--disabled-bg-color);\n",
              "    fill: var(--disabled-fill-color);\n",
              "    box-shadow: none;\n",
              "  }\n",
              "\n",
              "  .colab-df-spinner {\n",
              "    border: 2px solid var(--fill-color);\n",
              "    border-color: transparent;\n",
              "    border-bottom-color: var(--fill-color);\n",
              "    animation:\n",
              "      spin 1s steps(1) infinite;\n",
              "  }\n",
              "\n",
              "  @keyframes spin {\n",
              "    0% {\n",
              "      border-color: transparent;\n",
              "      border-bottom-color: var(--fill-color);\n",
              "      border-left-color: var(--fill-color);\n",
              "    }\n",
              "    20% {\n",
              "      border-color: transparent;\n",
              "      border-left-color: var(--fill-color);\n",
              "      border-top-color: var(--fill-color);\n",
              "    }\n",
              "    30% {\n",
              "      border-color: transparent;\n",
              "      border-left-color: var(--fill-color);\n",
              "      border-top-color: var(--fill-color);\n",
              "      border-right-color: var(--fill-color);\n",
              "    }\n",
              "    40% {\n",
              "      border-color: transparent;\n",
              "      border-right-color: var(--fill-color);\n",
              "      border-top-color: var(--fill-color);\n",
              "    }\n",
              "    60% {\n",
              "      border-color: transparent;\n",
              "      border-right-color: var(--fill-color);\n",
              "    }\n",
              "    80% {\n",
              "      border-color: transparent;\n",
              "      border-right-color: var(--fill-color);\n",
              "      border-bottom-color: var(--fill-color);\n",
              "    }\n",
              "    90% {\n",
              "      border-color: transparent;\n",
              "      border-bottom-color: var(--fill-color);\n",
              "    }\n",
              "  }\n",
              "</style>\n",
              "\n",
              "  <script>\n",
              "    async function quickchart(key) {\n",
              "      const quickchartButtonEl =\n",
              "        document.querySelector('#' + key + ' button');\n",
              "      quickchartButtonEl.disabled = true;  // To prevent multiple clicks.\n",
              "      quickchartButtonEl.classList.add('colab-df-spinner');\n",
              "      try {\n",
              "        const charts = await google.colab.kernel.invokeFunction(\n",
              "            'suggestCharts', [key], {});\n",
              "      } catch (error) {\n",
              "        console.error('Error during call to suggestCharts:', error);\n",
              "      }\n",
              "      quickchartButtonEl.classList.remove('colab-df-spinner');\n",
              "      quickchartButtonEl.classList.add('colab-df-quickchart-complete');\n",
              "    }\n",
              "    (() => {\n",
              "      let quickchartButtonEl =\n",
              "        document.querySelector('#df-56abb54f-6f90-4a71-89b8-df8bbbde11fe button');\n",
              "      quickchartButtonEl.style.display =\n",
              "        google.colab.kernel.accessAllowed ? 'block' : 'none';\n",
              "    })();\n",
              "  </script>\n",
              "</div>\n",
              "    </div>\n",
              "  </div>\n"
            ],
            "application/vnd.google.colaboratory.intrinsic+json": {
              "type": "dataframe",
              "summary": "{\n  \"name\": \"pd\",\n  \"rows\": 2,\n  \"fields\": [\n    {\n      \"column\": \"Class\",\n      \"properties\": {\n        \"dtype\": \"number\",\n        \"std\": 0,\n        \"min\": 0,\n        \"max\": 1,\n        \"num_unique_values\": 2,\n        \"samples\": [\n          1,\n          0\n        ],\n        \"semantic_type\": \"\",\n        \"description\": \"\"\n      }\n    },\n    {\n      \"column\": 0,\n      \"properties\": {\n        \"dtype\": \"number\",\n        \"std\": 60293,\n        \"min\": 27,\n        \"max\": 85295,\n        \"num_unique_values\": 2,\n        \"samples\": [\n          27,\n          85295\n        ],\n        \"semantic_type\": \"\",\n        \"description\": \"\"\n      }\n    },\n    {\n      \"column\": 1,\n      \"properties\": {\n        \"dtype\": \"number\",\n        \"std\": 68,\n        \"min\": 12,\n        \"max\": 109,\n        \"num_unique_values\": 2,\n        \"samples\": [\n          109,\n          12\n        ],\n        \"semantic_type\": \"\",\n        \"description\": \"\"\n      }\n    }\n  ]\n}"
            }
          },
          "metadata": {},
          "execution_count": 24
        }
      ]
    },
    {
      "cell_type": "code",
      "source": [
        "y_pred_10=dt_10.predict(x_test)\n",
        "accuracy_cart_10 = accuracy_score(y_test, y_pred_10)\n",
        "accuracy_cart_10"
      ],
      "metadata": {
        "colab": {
          "base_uri": "https://localhost:8080/"
        },
        "id": "LuJf8r6NlFey",
        "outputId": "509e83c4-bb09-4fae-afa8-f53df047240b"
      },
      "execution_count": null,
      "outputs": [
        {
          "output_type": "execute_result",
          "data": {
            "text/plain": [
              "0.9994967405170698"
            ]
          },
          "metadata": {},
          "execution_count": 25
        }
      ]
    },
    {
      "cell_type": "code",
      "source": [
        "y_pred_50=dt_50.predict(x_test)\n",
        "accuracy_cart_50 = accuracy_score(y_test, y_pred_50)\n",
        "accuracy_cart_50"
      ],
      "metadata": {
        "colab": {
          "base_uri": "https://localhost:8080/"
        },
        "id": "y88kxdQjlPDb",
        "outputId": "6e31733e-d61e-4dfc-d8ac-69b7a00a7dc4"
      },
      "execution_count": null,
      "outputs": [
        {
          "output_type": "execute_result",
          "data": {
            "text/plain": [
              "0.9990402958697612"
            ]
          },
          "metadata": {},
          "execution_count": 26
        }
      ]
    },
    {
      "cell_type": "code",
      "source": [
        "y_pred_100=dt_100.predict(x_test)\n",
        "accuracy_cart_100 = accuracy_score(y_test, y_pred_100)\n",
        "accuracy_cart_100"
      ],
      "metadata": {
        "colab": {
          "base_uri": "https://localhost:8080/"
        },
        "id": "ztsdNt2dlVL4",
        "outputId": "ebc95119-5301-475a-aef3-9d09665bbc53"
      },
      "execution_count": null,
      "outputs": [
        {
          "output_type": "execute_result",
          "data": {
            "text/plain": [
              "0.9991105181231933"
            ]
          },
          "metadata": {},
          "execution_count": 27
        }
      ]
    },
    {
      "cell_type": "code",
      "source": [
        "auprc_CART = average_precision_score(test['Class'], y_pred_10)\n",
        "auprc_CART"
      ],
      "metadata": {
        "colab": {
          "base_uri": "https://localhost:8080/"
        },
        "id": "t8NNq0-blYFF",
        "outputId": "0b6f68ec-e5e4-40b2-cb9c-c8efb3f73b3b"
      },
      "execution_count": null,
      "outputs": [
        {
          "output_type": "execute_result",
          "data": {
            "text/plain": [
              "0.7008601093078708"
            ]
          },
          "metadata": {},
          "execution_count": 28
        }
      ]
    },
    {
      "cell_type": "code",
      "source": [
        "pd.crosstab(test['Class'], y_pred_10)"
      ],
      "metadata": {
        "colab": {
          "base_uri": "https://localhost:8080/",
          "height": 143
        },
        "id": "d17tC554onpA",
        "outputId": "23b4a046-db28-487b-cc9e-c2708ae974b3"
      },
      "execution_count": null,
      "outputs": [
        {
          "output_type": "execute_result",
          "data": {
            "text/plain": [
              "col_0      0    1\n",
              "Class            \n",
              "0      85290   17\n",
              "1         26  110"
            ],
            "text/html": [
              "\n",
              "  <div id=\"df-2fbd7e26-7406-4a2d-8ce7-73ae0dd54cca\" class=\"colab-df-container\">\n",
              "    <div>\n",
              "<style scoped>\n",
              "    .dataframe tbody tr th:only-of-type {\n",
              "        vertical-align: middle;\n",
              "    }\n",
              "\n",
              "    .dataframe tbody tr th {\n",
              "        vertical-align: top;\n",
              "    }\n",
              "\n",
              "    .dataframe thead th {\n",
              "        text-align: right;\n",
              "    }\n",
              "</style>\n",
              "<table border=\"1\" class=\"dataframe\">\n",
              "  <thead>\n",
              "    <tr style=\"text-align: right;\">\n",
              "      <th>col_0</th>\n",
              "      <th>0</th>\n",
              "      <th>1</th>\n",
              "    </tr>\n",
              "    <tr>\n",
              "      <th>Class</th>\n",
              "      <th></th>\n",
              "      <th></th>\n",
              "    </tr>\n",
              "  </thead>\n",
              "  <tbody>\n",
              "    <tr>\n",
              "      <th>0</th>\n",
              "      <td>85290</td>\n",
              "      <td>17</td>\n",
              "    </tr>\n",
              "    <tr>\n",
              "      <th>1</th>\n",
              "      <td>26</td>\n",
              "      <td>110</td>\n",
              "    </tr>\n",
              "  </tbody>\n",
              "</table>\n",
              "</div>\n",
              "    <div class=\"colab-df-buttons\">\n",
              "\n",
              "  <div class=\"colab-df-container\">\n",
              "    <button class=\"colab-df-convert\" onclick=\"convertToInteractive('df-2fbd7e26-7406-4a2d-8ce7-73ae0dd54cca')\"\n",
              "            title=\"Convert this dataframe to an interactive table.\"\n",
              "            style=\"display:none;\">\n",
              "\n",
              "  <svg xmlns=\"http://www.w3.org/2000/svg\" height=\"24px\" viewBox=\"0 -960 960 960\">\n",
              "    <path d=\"M120-120v-720h720v720H120Zm60-500h600v-160H180v160Zm220 220h160v-160H400v160Zm0 220h160v-160H400v160ZM180-400h160v-160H180v160Zm440 0h160v-160H620v160ZM180-180h160v-160H180v160Zm440 0h160v-160H620v160Z\"/>\n",
              "  </svg>\n",
              "    </button>\n",
              "\n",
              "  <style>\n",
              "    .colab-df-container {\n",
              "      display:flex;\n",
              "      gap: 12px;\n",
              "    }\n",
              "\n",
              "    .colab-df-convert {\n",
              "      background-color: #E8F0FE;\n",
              "      border: none;\n",
              "      border-radius: 50%;\n",
              "      cursor: pointer;\n",
              "      display: none;\n",
              "      fill: #1967D2;\n",
              "      height: 32px;\n",
              "      padding: 0 0 0 0;\n",
              "      width: 32px;\n",
              "    }\n",
              "\n",
              "    .colab-df-convert:hover {\n",
              "      background-color: #E2EBFA;\n",
              "      box-shadow: 0px 1px 2px rgba(60, 64, 67, 0.3), 0px 1px 3px 1px rgba(60, 64, 67, 0.15);\n",
              "      fill: #174EA6;\n",
              "    }\n",
              "\n",
              "    .colab-df-buttons div {\n",
              "      margin-bottom: 4px;\n",
              "    }\n",
              "\n",
              "    [theme=dark] .colab-df-convert {\n",
              "      background-color: #3B4455;\n",
              "      fill: #D2E3FC;\n",
              "    }\n",
              "\n",
              "    [theme=dark] .colab-df-convert:hover {\n",
              "      background-color: #434B5C;\n",
              "      box-shadow: 0px 1px 3px 1px rgba(0, 0, 0, 0.15);\n",
              "      filter: drop-shadow(0px 1px 2px rgba(0, 0, 0, 0.3));\n",
              "      fill: #FFFFFF;\n",
              "    }\n",
              "  </style>\n",
              "\n",
              "    <script>\n",
              "      const buttonEl =\n",
              "        document.querySelector('#df-2fbd7e26-7406-4a2d-8ce7-73ae0dd54cca button.colab-df-convert');\n",
              "      buttonEl.style.display =\n",
              "        google.colab.kernel.accessAllowed ? 'block' : 'none';\n",
              "\n",
              "      async function convertToInteractive(key) {\n",
              "        const element = document.querySelector('#df-2fbd7e26-7406-4a2d-8ce7-73ae0dd54cca');\n",
              "        const dataTable =\n",
              "          await google.colab.kernel.invokeFunction('convertToInteractive',\n",
              "                                                    [key], {});\n",
              "        if (!dataTable) return;\n",
              "\n",
              "        const docLinkHtml = 'Like what you see? Visit the ' +\n",
              "          '<a target=\"_blank\" href=https://colab.research.google.com/notebooks/data_table.ipynb>data table notebook</a>'\n",
              "          + ' to learn more about interactive tables.';\n",
              "        element.innerHTML = '';\n",
              "        dataTable['output_type'] = 'display_data';\n",
              "        await google.colab.output.renderOutput(dataTable, element);\n",
              "        const docLink = document.createElement('div');\n",
              "        docLink.innerHTML = docLinkHtml;\n",
              "        element.appendChild(docLink);\n",
              "      }\n",
              "    </script>\n",
              "  </div>\n",
              "\n",
              "\n",
              "<div id=\"df-b5481126-d860-452d-b265-e127e4167b8a\">\n",
              "  <button class=\"colab-df-quickchart\" onclick=\"quickchart('df-b5481126-d860-452d-b265-e127e4167b8a')\"\n",
              "            title=\"Suggest charts\"\n",
              "            style=\"display:none;\">\n",
              "\n",
              "<svg xmlns=\"http://www.w3.org/2000/svg\" height=\"24px\"viewBox=\"0 0 24 24\"\n",
              "     width=\"24px\">\n",
              "    <g>\n",
              "        <path d=\"M19 3H5c-1.1 0-2 .9-2 2v14c0 1.1.9 2 2 2h14c1.1 0 2-.9 2-2V5c0-1.1-.9-2-2-2zM9 17H7v-7h2v7zm4 0h-2V7h2v10zm4 0h-2v-4h2v4z\"/>\n",
              "    </g>\n",
              "</svg>\n",
              "  </button>\n",
              "\n",
              "<style>\n",
              "  .colab-df-quickchart {\n",
              "      --bg-color: #E8F0FE;\n",
              "      --fill-color: #1967D2;\n",
              "      --hover-bg-color: #E2EBFA;\n",
              "      --hover-fill-color: #174EA6;\n",
              "      --disabled-fill-color: #AAA;\n",
              "      --disabled-bg-color: #DDD;\n",
              "  }\n",
              "\n",
              "  [theme=dark] .colab-df-quickchart {\n",
              "      --bg-color: #3B4455;\n",
              "      --fill-color: #D2E3FC;\n",
              "      --hover-bg-color: #434B5C;\n",
              "      --hover-fill-color: #FFFFFF;\n",
              "      --disabled-bg-color: #3B4455;\n",
              "      --disabled-fill-color: #666;\n",
              "  }\n",
              "\n",
              "  .colab-df-quickchart {\n",
              "    background-color: var(--bg-color);\n",
              "    border: none;\n",
              "    border-radius: 50%;\n",
              "    cursor: pointer;\n",
              "    display: none;\n",
              "    fill: var(--fill-color);\n",
              "    height: 32px;\n",
              "    padding: 0;\n",
              "    width: 32px;\n",
              "  }\n",
              "\n",
              "  .colab-df-quickchart:hover {\n",
              "    background-color: var(--hover-bg-color);\n",
              "    box-shadow: 0 1px 2px rgba(60, 64, 67, 0.3), 0 1px 3px 1px rgba(60, 64, 67, 0.15);\n",
              "    fill: var(--button-hover-fill-color);\n",
              "  }\n",
              "\n",
              "  .colab-df-quickchart-complete:disabled,\n",
              "  .colab-df-quickchart-complete:disabled:hover {\n",
              "    background-color: var(--disabled-bg-color);\n",
              "    fill: var(--disabled-fill-color);\n",
              "    box-shadow: none;\n",
              "  }\n",
              "\n",
              "  .colab-df-spinner {\n",
              "    border: 2px solid var(--fill-color);\n",
              "    border-color: transparent;\n",
              "    border-bottom-color: var(--fill-color);\n",
              "    animation:\n",
              "      spin 1s steps(1) infinite;\n",
              "  }\n",
              "\n",
              "  @keyframes spin {\n",
              "    0% {\n",
              "      border-color: transparent;\n",
              "      border-bottom-color: var(--fill-color);\n",
              "      border-left-color: var(--fill-color);\n",
              "    }\n",
              "    20% {\n",
              "      border-color: transparent;\n",
              "      border-left-color: var(--fill-color);\n",
              "      border-top-color: var(--fill-color);\n",
              "    }\n",
              "    30% {\n",
              "      border-color: transparent;\n",
              "      border-left-color: var(--fill-color);\n",
              "      border-top-color: var(--fill-color);\n",
              "      border-right-color: var(--fill-color);\n",
              "    }\n",
              "    40% {\n",
              "      border-color: transparent;\n",
              "      border-right-color: var(--fill-color);\n",
              "      border-top-color: var(--fill-color);\n",
              "    }\n",
              "    60% {\n",
              "      border-color: transparent;\n",
              "      border-right-color: var(--fill-color);\n",
              "    }\n",
              "    80% {\n",
              "      border-color: transparent;\n",
              "      border-right-color: var(--fill-color);\n",
              "      border-bottom-color: var(--fill-color);\n",
              "    }\n",
              "    90% {\n",
              "      border-color: transparent;\n",
              "      border-bottom-color: var(--fill-color);\n",
              "    }\n",
              "  }\n",
              "</style>\n",
              "\n",
              "  <script>\n",
              "    async function quickchart(key) {\n",
              "      const quickchartButtonEl =\n",
              "        document.querySelector('#' + key + ' button');\n",
              "      quickchartButtonEl.disabled = true;  // To prevent multiple clicks.\n",
              "      quickchartButtonEl.classList.add('colab-df-spinner');\n",
              "      try {\n",
              "        const charts = await google.colab.kernel.invokeFunction(\n",
              "            'suggestCharts', [key], {});\n",
              "      } catch (error) {\n",
              "        console.error('Error during call to suggestCharts:', error);\n",
              "      }\n",
              "      quickchartButtonEl.classList.remove('colab-df-spinner');\n",
              "      quickchartButtonEl.classList.add('colab-df-quickchart-complete');\n",
              "    }\n",
              "    (() => {\n",
              "      let quickchartButtonEl =\n",
              "        document.querySelector('#df-b5481126-d860-452d-b265-e127e4167b8a button');\n",
              "      quickchartButtonEl.style.display =\n",
              "        google.colab.kernel.accessAllowed ? 'block' : 'none';\n",
              "    })();\n",
              "  </script>\n",
              "</div>\n",
              "    </div>\n",
              "  </div>\n"
            ],
            "application/vnd.google.colaboratory.intrinsic+json": {
              "type": "dataframe",
              "summary": "{\n  \"name\": \"pd\",\n  \"rows\": 2,\n  \"fields\": [\n    {\n      \"column\": \"Class\",\n      \"properties\": {\n        \"dtype\": \"number\",\n        \"std\": 0,\n        \"min\": 0,\n        \"max\": 1,\n        \"num_unique_values\": 2,\n        \"samples\": [\n          1,\n          0\n        ],\n        \"semantic_type\": \"\",\n        \"description\": \"\"\n      }\n    },\n    {\n      \"column\": 0,\n      \"properties\": {\n        \"dtype\": \"number\",\n        \"std\": 60290,\n        \"min\": 26,\n        \"max\": 85290,\n        \"num_unique_values\": 2,\n        \"samples\": [\n          26,\n          85290\n        ],\n        \"semantic_type\": \"\",\n        \"description\": \"\"\n      }\n    },\n    {\n      \"column\": 1,\n      \"properties\": {\n        \"dtype\": \"number\",\n        \"std\": 65,\n        \"min\": 17,\n        \"max\": 110,\n        \"num_unique_values\": 2,\n        \"samples\": [\n          110,\n          17\n        ],\n        \"semantic_type\": \"\",\n        \"description\": \"\"\n      }\n    }\n  ]\n}"
            }
          },
          "metadata": {},
          "execution_count": 29
        }
      ]
    },
    {
      "cell_type": "markdown",
      "source": [
        "class_weight = {0: 1, 1:4}"
      ],
      "metadata": {
        "id": "-dLbmomAl4um"
      }
    },
    {
      "cell_type": "code",
      "source": [
        "26/(85292+26)"
      ],
      "metadata": {
        "colab": {
          "base_uri": "https://localhost:8080/"
        },
        "id": "Jjlw00yNuMFA",
        "outputId": "d4e2aa23-a9b4-4fad-f9e9-fb95315aedfb"
      },
      "execution_count": null,
      "outputs": [
        {
          "output_type": "execute_result",
          "data": {
            "text/plain": [
              "0.00030474225837455167"
            ]
          },
          "metadata": {},
          "execution_count": 30
        }
      ]
    },
    {
      "cell_type": "code",
      "source": [
        "creditcard_rf = RandomForestClassifier(n_estimators = 100, min_samples_leaf= 40, random_state = 42)\n",
        "creditcard_rf.fit(x_train, y_train)\n",
        "y_pred_rf = creditcard_rf.predict(x_test)\n",
        "\n",
        "acc_rf = accuracy_score(y_test, y_pred_rf)"
      ],
      "metadata": {
        "id": "M5vbN04nll4O"
      },
      "execution_count": null,
      "outputs": []
    },
    {
      "cell_type": "code",
      "source": [
        "acc_rf"
      ],
      "metadata": {
        "id": "oqmE3vscl8yv",
        "colab": {
          "base_uri": "https://localhost:8080/"
        },
        "outputId": "70df8268-fd43-4548-c686-50fb86a70547"
      },
      "execution_count": null,
      "outputs": [
        {
          "output_type": "execute_result",
          "data": {
            "text/plain": [
              "0.9992158515033414"
            ]
          },
          "metadata": {},
          "execution_count": 32
        }
      ]
    },
    {
      "cell_type": "code",
      "source": [
        "auprc_rf = average_precision_score(test['Class'], y_pred_rf)\n",
        "auprc_rf"
      ],
      "metadata": {
        "id": "WzNRCiQBm_P9",
        "colab": {
          "base_uri": "https://localhost:8080/"
        },
        "outputId": "9b1b8a2c-cb72-4217-c2be-36c1f4cdad75"
      },
      "execution_count": null,
      "outputs": [
        {
          "output_type": "execute_result",
          "data": {
            "text/plain": [
              "0.5327223057899638"
            ]
          },
          "metadata": {},
          "execution_count": 33
        }
      ]
    },
    {
      "cell_type": "code",
      "source": [
        "pd.crosstab(test['Class'], y_pred_rf)"
      ],
      "metadata": {
        "id": "3vNTREVynDdw",
        "colab": {
          "base_uri": "https://localhost:8080/",
          "height": 143
        },
        "outputId": "2ee6b5fb-e993-4890-e5ae-c99a98eec306"
      },
      "execution_count": null,
      "outputs": [
        {
          "output_type": "execute_result",
          "data": {
            "text/plain": [
              "col_0      0   1\n",
              "Class           \n",
              "0      85288  19\n",
              "1         48  88"
            ],
            "text/html": [
              "\n",
              "  <div id=\"df-feebab8f-3b1c-47d0-a68b-2bc172b56f26\" class=\"colab-df-container\">\n",
              "    <div>\n",
              "<style scoped>\n",
              "    .dataframe tbody tr th:only-of-type {\n",
              "        vertical-align: middle;\n",
              "    }\n",
              "\n",
              "    .dataframe tbody tr th {\n",
              "        vertical-align: top;\n",
              "    }\n",
              "\n",
              "    .dataframe thead th {\n",
              "        text-align: right;\n",
              "    }\n",
              "</style>\n",
              "<table border=\"1\" class=\"dataframe\">\n",
              "  <thead>\n",
              "    <tr style=\"text-align: right;\">\n",
              "      <th>col_0</th>\n",
              "      <th>0</th>\n",
              "      <th>1</th>\n",
              "    </tr>\n",
              "    <tr>\n",
              "      <th>Class</th>\n",
              "      <th></th>\n",
              "      <th></th>\n",
              "    </tr>\n",
              "  </thead>\n",
              "  <tbody>\n",
              "    <tr>\n",
              "      <th>0</th>\n",
              "      <td>85288</td>\n",
              "      <td>19</td>\n",
              "    </tr>\n",
              "    <tr>\n",
              "      <th>1</th>\n",
              "      <td>48</td>\n",
              "      <td>88</td>\n",
              "    </tr>\n",
              "  </tbody>\n",
              "</table>\n",
              "</div>\n",
              "    <div class=\"colab-df-buttons\">\n",
              "\n",
              "  <div class=\"colab-df-container\">\n",
              "    <button class=\"colab-df-convert\" onclick=\"convertToInteractive('df-feebab8f-3b1c-47d0-a68b-2bc172b56f26')\"\n",
              "            title=\"Convert this dataframe to an interactive table.\"\n",
              "            style=\"display:none;\">\n",
              "\n",
              "  <svg xmlns=\"http://www.w3.org/2000/svg\" height=\"24px\" viewBox=\"0 -960 960 960\">\n",
              "    <path d=\"M120-120v-720h720v720H120Zm60-500h600v-160H180v160Zm220 220h160v-160H400v160Zm0 220h160v-160H400v160ZM180-400h160v-160H180v160Zm440 0h160v-160H620v160ZM180-180h160v-160H180v160Zm440 0h160v-160H620v160Z\"/>\n",
              "  </svg>\n",
              "    </button>\n",
              "\n",
              "  <style>\n",
              "    .colab-df-container {\n",
              "      display:flex;\n",
              "      gap: 12px;\n",
              "    }\n",
              "\n",
              "    .colab-df-convert {\n",
              "      background-color: #E8F0FE;\n",
              "      border: none;\n",
              "      border-radius: 50%;\n",
              "      cursor: pointer;\n",
              "      display: none;\n",
              "      fill: #1967D2;\n",
              "      height: 32px;\n",
              "      padding: 0 0 0 0;\n",
              "      width: 32px;\n",
              "    }\n",
              "\n",
              "    .colab-df-convert:hover {\n",
              "      background-color: #E2EBFA;\n",
              "      box-shadow: 0px 1px 2px rgba(60, 64, 67, 0.3), 0px 1px 3px 1px rgba(60, 64, 67, 0.15);\n",
              "      fill: #174EA6;\n",
              "    }\n",
              "\n",
              "    .colab-df-buttons div {\n",
              "      margin-bottom: 4px;\n",
              "    }\n",
              "\n",
              "    [theme=dark] .colab-df-convert {\n",
              "      background-color: #3B4455;\n",
              "      fill: #D2E3FC;\n",
              "    }\n",
              "\n",
              "    [theme=dark] .colab-df-convert:hover {\n",
              "      background-color: #434B5C;\n",
              "      box-shadow: 0px 1px 3px 1px rgba(0, 0, 0, 0.15);\n",
              "      filter: drop-shadow(0px 1px 2px rgba(0, 0, 0, 0.3));\n",
              "      fill: #FFFFFF;\n",
              "    }\n",
              "  </style>\n",
              "\n",
              "    <script>\n",
              "      const buttonEl =\n",
              "        document.querySelector('#df-feebab8f-3b1c-47d0-a68b-2bc172b56f26 button.colab-df-convert');\n",
              "      buttonEl.style.display =\n",
              "        google.colab.kernel.accessAllowed ? 'block' : 'none';\n",
              "\n",
              "      async function convertToInteractive(key) {\n",
              "        const element = document.querySelector('#df-feebab8f-3b1c-47d0-a68b-2bc172b56f26');\n",
              "        const dataTable =\n",
              "          await google.colab.kernel.invokeFunction('convertToInteractive',\n",
              "                                                    [key], {});\n",
              "        if (!dataTable) return;\n",
              "\n",
              "        const docLinkHtml = 'Like what you see? Visit the ' +\n",
              "          '<a target=\"_blank\" href=https://colab.research.google.com/notebooks/data_table.ipynb>data table notebook</a>'\n",
              "          + ' to learn more about interactive tables.';\n",
              "        element.innerHTML = '';\n",
              "        dataTable['output_type'] = 'display_data';\n",
              "        await google.colab.output.renderOutput(dataTable, element);\n",
              "        const docLink = document.createElement('div');\n",
              "        docLink.innerHTML = docLinkHtml;\n",
              "        element.appendChild(docLink);\n",
              "      }\n",
              "    </script>\n",
              "  </div>\n",
              "\n",
              "\n",
              "<div id=\"df-46bf620d-9cff-42c0-bc1c-f37bcee2a600\">\n",
              "  <button class=\"colab-df-quickchart\" onclick=\"quickchart('df-46bf620d-9cff-42c0-bc1c-f37bcee2a600')\"\n",
              "            title=\"Suggest charts\"\n",
              "            style=\"display:none;\">\n",
              "\n",
              "<svg xmlns=\"http://www.w3.org/2000/svg\" height=\"24px\"viewBox=\"0 0 24 24\"\n",
              "     width=\"24px\">\n",
              "    <g>\n",
              "        <path d=\"M19 3H5c-1.1 0-2 .9-2 2v14c0 1.1.9 2 2 2h14c1.1 0 2-.9 2-2V5c0-1.1-.9-2-2-2zM9 17H7v-7h2v7zm4 0h-2V7h2v10zm4 0h-2v-4h2v4z\"/>\n",
              "    </g>\n",
              "</svg>\n",
              "  </button>\n",
              "\n",
              "<style>\n",
              "  .colab-df-quickchart {\n",
              "      --bg-color: #E8F0FE;\n",
              "      --fill-color: #1967D2;\n",
              "      --hover-bg-color: #E2EBFA;\n",
              "      --hover-fill-color: #174EA6;\n",
              "      --disabled-fill-color: #AAA;\n",
              "      --disabled-bg-color: #DDD;\n",
              "  }\n",
              "\n",
              "  [theme=dark] .colab-df-quickchart {\n",
              "      --bg-color: #3B4455;\n",
              "      --fill-color: #D2E3FC;\n",
              "      --hover-bg-color: #434B5C;\n",
              "      --hover-fill-color: #FFFFFF;\n",
              "      --disabled-bg-color: #3B4455;\n",
              "      --disabled-fill-color: #666;\n",
              "  }\n",
              "\n",
              "  .colab-df-quickchart {\n",
              "    background-color: var(--bg-color);\n",
              "    border: none;\n",
              "    border-radius: 50%;\n",
              "    cursor: pointer;\n",
              "    display: none;\n",
              "    fill: var(--fill-color);\n",
              "    height: 32px;\n",
              "    padding: 0;\n",
              "    width: 32px;\n",
              "  }\n",
              "\n",
              "  .colab-df-quickchart:hover {\n",
              "    background-color: var(--hover-bg-color);\n",
              "    box-shadow: 0 1px 2px rgba(60, 64, 67, 0.3), 0 1px 3px 1px rgba(60, 64, 67, 0.15);\n",
              "    fill: var(--button-hover-fill-color);\n",
              "  }\n",
              "\n",
              "  .colab-df-quickchart-complete:disabled,\n",
              "  .colab-df-quickchart-complete:disabled:hover {\n",
              "    background-color: var(--disabled-bg-color);\n",
              "    fill: var(--disabled-fill-color);\n",
              "    box-shadow: none;\n",
              "  }\n",
              "\n",
              "  .colab-df-spinner {\n",
              "    border: 2px solid var(--fill-color);\n",
              "    border-color: transparent;\n",
              "    border-bottom-color: var(--fill-color);\n",
              "    animation:\n",
              "      spin 1s steps(1) infinite;\n",
              "  }\n",
              "\n",
              "  @keyframes spin {\n",
              "    0% {\n",
              "      border-color: transparent;\n",
              "      border-bottom-color: var(--fill-color);\n",
              "      border-left-color: var(--fill-color);\n",
              "    }\n",
              "    20% {\n",
              "      border-color: transparent;\n",
              "      border-left-color: var(--fill-color);\n",
              "      border-top-color: var(--fill-color);\n",
              "    }\n",
              "    30% {\n",
              "      border-color: transparent;\n",
              "      border-left-color: var(--fill-color);\n",
              "      border-top-color: var(--fill-color);\n",
              "      border-right-color: var(--fill-color);\n",
              "    }\n",
              "    40% {\n",
              "      border-color: transparent;\n",
              "      border-right-color: var(--fill-color);\n",
              "      border-top-color: var(--fill-color);\n",
              "    }\n",
              "    60% {\n",
              "      border-color: transparent;\n",
              "      border-right-color: var(--fill-color);\n",
              "    }\n",
              "    80% {\n",
              "      border-color: transparent;\n",
              "      border-right-color: var(--fill-color);\n",
              "      border-bottom-color: var(--fill-color);\n",
              "    }\n",
              "    90% {\n",
              "      border-color: transparent;\n",
              "      border-bottom-color: var(--fill-color);\n",
              "    }\n",
              "  }\n",
              "</style>\n",
              "\n",
              "  <script>\n",
              "    async function quickchart(key) {\n",
              "      const quickchartButtonEl =\n",
              "        document.querySelector('#' + key + ' button');\n",
              "      quickchartButtonEl.disabled = true;  // To prevent multiple clicks.\n",
              "      quickchartButtonEl.classList.add('colab-df-spinner');\n",
              "      try {\n",
              "        const charts = await google.colab.kernel.invokeFunction(\n",
              "            'suggestCharts', [key], {});\n",
              "      } catch (error) {\n",
              "        console.error('Error during call to suggestCharts:', error);\n",
              "      }\n",
              "      quickchartButtonEl.classList.remove('colab-df-spinner');\n",
              "      quickchartButtonEl.classList.add('colab-df-quickchart-complete');\n",
              "    }\n",
              "    (() => {\n",
              "      let quickchartButtonEl =\n",
              "        document.querySelector('#df-46bf620d-9cff-42c0-bc1c-f37bcee2a600 button');\n",
              "      quickchartButtonEl.style.display =\n",
              "        google.colab.kernel.accessAllowed ? 'block' : 'none';\n",
              "    })();\n",
              "  </script>\n",
              "</div>\n",
              "    </div>\n",
              "  </div>\n"
            ],
            "application/vnd.google.colaboratory.intrinsic+json": {
              "type": "dataframe",
              "summary": "{\n  \"name\": \"pd\",\n  \"rows\": 2,\n  \"fields\": [\n    {\n      \"column\": \"Class\",\n      \"properties\": {\n        \"dtype\": \"number\",\n        \"std\": 0,\n        \"min\": 0,\n        \"max\": 1,\n        \"num_unique_values\": 2,\n        \"samples\": [\n          1,\n          0\n        ],\n        \"semantic_type\": \"\",\n        \"description\": \"\"\n      }\n    },\n    {\n      \"column\": 0,\n      \"properties\": {\n        \"dtype\": \"number\",\n        \"std\": 60273,\n        \"min\": 48,\n        \"max\": 85288,\n        \"num_unique_values\": 2,\n        \"samples\": [\n          48,\n          85288\n        ],\n        \"semantic_type\": \"\",\n        \"description\": \"\"\n      }\n    },\n    {\n      \"column\": 1,\n      \"properties\": {\n        \"dtype\": \"number\",\n        \"std\": 48,\n        \"min\": 19,\n        \"max\": 88,\n        \"num_unique_values\": 2,\n        \"samples\": [\n          88,\n          19\n        ],\n        \"semantic_type\": \"\",\n        \"description\": \"\"\n      }\n    }\n  ]\n}"
            }
          },
          "metadata": {},
          "execution_count": 34
        }
      ]
    },
    {
      "cell_type": "code",
      "source": [
        "88 / (88+19)"
      ],
      "metadata": {
        "id": "ZZjZQgokvV-I",
        "colab": {
          "base_uri": "https://localhost:8080/"
        },
        "outputId": "d362b46f-9e0d-4148-d159-44832bc6b9ec"
      },
      "execution_count": null,
      "outputs": [
        {
          "output_type": "execute_result",
          "data": {
            "text/plain": [
              "0.822429906542056"
            ]
          },
          "metadata": {},
          "execution_count": 35
        }
      ]
    },
    {
      "cell_type": "code",
      "source": [
        "48 / (85288 + 48)"
      ],
      "metadata": {
        "id": "bgQHZhzZwfi-",
        "colab": {
          "base_uri": "https://localhost:8080/"
        },
        "outputId": "dd6c6eb1-d71e-4bae-c321-a3b21e37a2ce"
      },
      "execution_count": null,
      "outputs": [
        {
          "output_type": "execute_result",
          "data": {
            "text/plain": [
              "0.0005624824224242992"
            ]
          },
          "metadata": {},
          "execution_count": 36
        }
      ]
    },
    {
      "cell_type": "code",
      "source": [
        "plt.figure(figsize = (16,8))\n",
        "plot_tree(dt_10, fontsize = 4,  filled = True)"
      ],
      "metadata": {
        "id": "O0JITdYPwpUX",
        "colab": {
          "base_uri": "https://localhost:8080/",
          "height": 1000
        },
        "outputId": "2e272f98-703d-4cd3-9b5d-27a0e7a8997e"
      },
      "execution_count": null,
      "outputs": [
        {
          "output_type": "execute_result",
          "data": {
            "text/plain": [
              "[Text(0.18935590920989046, 0.975, 'x[16] <= -2.769\\ngini = 0.004\\nsamples = 199364\\nvalue = [199008, 356]'),\n",
              " Text(0.09278350515463918, 0.925, 'x[11] <= -1.925\\ngini = 0.337\\nsamples = 303\\nvalue = [65, 238]'),\n",
              " Text(0.08247422680412371, 0.875, 'x[25] <= -0.257\\ngini = 0.283\\nsamples = 287\\nvalue = [49, 238]'),\n",
              " Text(0.041237113402061855, 0.825, 'x[25] <= -0.337\\ngini = 0.476\\nsamples = 77\\nvalue = [30, 47]'),\n",
              " Text(0.020618556701030927, 0.775, 'x[13] <= -3.787\\ngini = 0.172\\nsamples = 42\\nvalue = [4, 38]'),\n",
              " Text(0.010309278350515464, 0.725, 'gini = 0.0\\nsamples = 31\\nvalue = [0, 31]'),\n",
              " Text(0.030927835051546393, 0.725, 'gini = 0.463\\nsamples = 11\\nvalue = [4, 7]'),\n",
              " Text(0.061855670103092786, 0.775, 'x[13] <= -8.764\\ngini = 0.382\\nsamples = 35\\nvalue = [26, 9]'),\n",
              " Text(0.05154639175257732, 0.725, 'gini = 0.0\\nsamples = 18\\nvalue = [18, 0]'),\n",
              " Text(0.07216494845360824, 0.725, 'gini = 0.498\\nsamples = 17\\nvalue = [8, 9]'),\n",
              " Text(0.12371134020618557, 0.825, 'x[13] <= -3.43\\ngini = 0.165\\nsamples = 210\\nvalue = [19, 191]'),\n",
              " Text(0.1134020618556701, 0.775, 'x[24] <= 1.014\\ngini = 0.098\\nsamples = 193\\nvalue = [10, 183]'),\n",
              " Text(0.09278350515463918, 0.725, 'x[3] <= 1.477\\ngini = 0.046\\nsamples = 170\\nvalue = [4, 166]'),\n",
              " Text(0.08247422680412371, 0.675, 'gini = 0.337\\nsamples = 14\\nvalue = [3, 11]'),\n",
              " Text(0.10309278350515463, 0.675, 'x[27] <= 0.888\\ngini = 0.013\\nsamples = 156\\nvalue = [1, 155]'),\n",
              " Text(0.09278350515463918, 0.625, 'gini = 0.0\\nsamples = 146\\nvalue = [0, 146]'),\n",
              " Text(0.1134020618556701, 0.625, 'gini = 0.18\\nsamples = 10\\nvalue = [1, 9]'),\n",
              " Text(0.13402061855670103, 0.725, 'x[20] <= 1.52\\ngini = 0.386\\nsamples = 23\\nvalue = [6, 17]'),\n",
              " Text(0.12371134020618557, 0.675, 'gini = 0.48\\nsamples = 10\\nvalue = [6, 4]'),\n",
              " Text(0.14432989690721648, 0.675, 'gini = 0.0\\nsamples = 13\\nvalue = [0, 13]'),\n",
              " Text(0.13402061855670103, 0.775, 'gini = 0.498\\nsamples = 17\\nvalue = [9, 8]'),\n",
              " Text(0.10309278350515463, 0.875, 'gini = 0.0\\nsamples = 16\\nvalue = [16, 0]'),\n",
              " Text(0.28592831326514173, 0.925, 'x[13] <= -8.098\\ngini = 0.001\\nsamples = 199061\\nvalue = [198943, 118]'),\n",
              " Text(0.21364569909793815, 0.875, 'x[11] <= -4.526\\ngini = 0.175\\nsamples = 31\\nvalue = [3, 28]'),\n",
              " Text(0.20333642074742267, 0.825, 'gini = 0.0\\nsamples = 21\\nvalue = [0, 21]'),\n",
              " Text(0.2239549774484536, 0.825, 'gini = 0.42\\nsamples = 10\\nvalue = [3, 7]'),\n",
              " Text(0.35821092743234534, 0.875, 'x[13] <= -4.661\\ngini = 0.001\\nsamples = 199030\\nvalue = [198940, 90]'),\n",
              " Text(0.24457353414948454, 0.825, 'x[9] <= -1.847\\ngini = 0.256\\nsamples = 179\\nvalue = [152, 27]'),\n",
              " Text(0.21364569909793815, 0.775, 'x[23] <= -1.108\\ngini = 0.456\\nsamples = 37\\nvalue = [13, 24]'),\n",
              " Text(0.20333642074742267, 0.725, 'gini = 0.18\\nsamples = 10\\nvalue = [9, 1]'),\n",
              " Text(0.2239549774484536, 0.725, 'x[4] <= 2.526\\ngini = 0.252\\nsamples = 27\\nvalue = [4, 23]'),\n",
              " Text(0.21364569909793815, 0.675, 'gini = 0.0\\nsamples = 17\\nvalue = [0, 17]'),\n",
              " Text(0.23426425579896906, 0.675, 'gini = 0.48\\nsamples = 10\\nvalue = [4, 6]'),\n",
              " Text(0.2755013692010309, 0.775, 'x[18] <= 0.493\\ngini = 0.041\\nsamples = 142\\nvalue = [139, 3]'),\n",
              " Text(0.2651920908505155, 0.725, 'x[24] <= -0.47\\ngini = 0.015\\nsamples = 132\\nvalue = [131, 1]'),\n",
              " Text(0.2548828125, 0.675, 'gini = 0.18\\nsamples = 10\\nvalue = [9, 1]'),\n",
              " Text(0.2755013692010309, 0.675, 'gini = 0.0\\nsamples = 122\\nvalue = [122, 0]'),\n",
              " Text(0.2858106475515464, 0.725, 'gini = 0.32\\nsamples = 10\\nvalue = [8, 2]'),\n",
              " Text(0.47184832071520616, 0.825, 'x[13] <= -4.204\\ngini = 0.001\\nsamples = 198851\\nvalue = [198788, 63]'),\n",
              " Text(0.3167384826030928, 0.775, 'x[6] <= 0.263\\ngini = 0.081\\nsamples = 94\\nvalue = [90, 4]'),\n",
              " Text(0.3064292042525773, 0.725, 'gini = 0.48\\nsamples = 10\\nvalue = [6, 4]'),\n",
              " Text(0.32704776095360827, 0.725, 'gini = 0.0\\nsamples = 84\\nvalue = [84, 0]'),\n",
              " Text(0.6269581588273195, 0.775, 'x[3] <= 2.486\\ngini = 0.001\\nsamples = 198757\\nvalue = [198698, 59]'),\n",
              " Text(0.3476663176546392, 0.725, 'x[22] <= -15.374\\ngini = 0.0\\nsamples = 188503\\nvalue = [188468, 35]'),\n",
              " Text(0.3373570393041237, 0.675, 'gini = 0.18\\nsamples = 10\\nvalue = [9, 1]'),\n",
              " Text(0.35797559600515466, 0.675, 'x[19] <= -1.377\\ngini = 0.0\\nsamples = 188493\\nvalue = [188459, 34]'),\n",
              " Text(0.13402061855670103, 0.625, 'x[16] <= 2.875\\ngini = 0.006\\nsamples = 1954\\nvalue = [1948, 6]'),\n",
              " Text(0.12371134020618557, 0.575, 'x[19] <= -1.38\\ngini = 0.005\\nsamples = 1944\\nvalue = [1939, 5]'),\n",
              " Text(0.1134020618556701, 0.525, 'x[13] <= -3.639\\ngini = 0.004\\nsamples = 1934\\nvalue = [1930, 4]'),\n",
              " Text(0.10309278350515463, 0.475, 'gini = 0.153\\nsamples = 12\\nvalue = [11, 1]'),\n",
              " Text(0.12371134020618557, 0.475, 'x[0] <= -1.838\\ngini = 0.003\\nsamples = 1922\\nvalue = [1919, 3]'),\n",
              " Text(0.10309278350515463, 0.425, 'x[12] <= -1.879\\ngini = 0.001\\nsamples = 1819\\nvalue = [1818, 1]'),\n",
              " Text(0.09278350515463918, 0.375, 'x[5] <= 0.23\\ngini = 0.074\\nsamples = 26\\nvalue = [25, 1]'),\n",
              " Text(0.08247422680412371, 0.325, 'gini = 0.18\\nsamples = 10\\nvalue = [9, 1]'),\n",
              " Text(0.10309278350515463, 0.325, 'gini = 0.0\\nsamples = 16\\nvalue = [16, 0]'),\n",
              " Text(0.1134020618556701, 0.375, 'gini = 0.0\\nsamples = 1793\\nvalue = [1793, 0]'),\n",
              " Text(0.14432989690721648, 0.425, 'x[10] <= -1.29\\ngini = 0.038\\nsamples = 103\\nvalue = [101, 2]'),\n",
              " Text(0.13402061855670103, 0.375, 'gini = 0.32\\nsamples = 10\\nvalue = [8, 2]'),\n",
              " Text(0.15463917525773196, 0.375, 'gini = 0.0\\nsamples = 93\\nvalue = [93, 0]'),\n",
              " Text(0.13402061855670103, 0.525, 'gini = 0.18\\nsamples = 10\\nvalue = [9, 1]'),\n",
              " Text(0.14432989690721648, 0.575, 'gini = 0.18\\nsamples = 10\\nvalue = [9, 1]'),\n",
              " Text(0.5819305734536082, 0.625, 'x[6] <= 2.88\\ngini = 0.0\\nsamples = 186539\\nvalue = [186511, 28]'),\n",
              " Text(0.442211662371134, 0.575, 'x[13] <= -0.995\\ngini = 0.0\\nsamples = 185388\\nvalue = [185364, 24]'),\n",
              " Text(0.2764175257731959, 0.525, 'x[13] <= -0.995\\ngini = 0.002\\nsamples = 18168\\nvalue = [18154, 14]'),\n",
              " Text(0.2661082474226804, 0.475, 'x[3] <= 2.288\\ngini = 0.001\\nsamples = 18158\\nvalue = [18145, 13]'),\n",
              " Text(0.22551546391752578, 0.425, 'x[18] <= -2.191\\ngini = 0.001\\nsamples = 18107\\nvalue = [18095, 12]'),\n",
              " Text(0.17525773195876287, 0.375, 'x[8] <= -0.965\\ngini = 0.024\\nsamples = 84\\nvalue = [83, 1]'),\n",
              " Text(0.16494845360824742, 0.325, 'gini = 0.18\\nsamples = 10\\nvalue = [9, 1]'),\n",
              " Text(0.18556701030927836, 0.325, 'gini = 0.0\\nsamples = 74\\nvalue = [74, 0]'),\n",
              " Text(0.2757731958762887, 0.375, 'x[28] <= 0.039\\ngini = 0.001\\nsamples = 18023\\nvalue = [18012, 11]'),\n",
              " Text(0.20618556701030927, 0.325, 'x[2] <= -2.583\\ngini = 0.001\\nsamples = 14786\\nvalue = [14782, 4]'),\n",
              " Text(0.18041237113402062, 0.275, 'x[2] <= -2.591\\ngini = 0.003\\nsamples = 1234\\nvalue = [1232, 2]'),\n",
              " Text(0.17010309278350516, 0.225, 'x[0] <= 2.132\\ngini = 0.002\\nsamples = 1224\\nvalue = [1223, 1]'),\n",
              " Text(0.15979381443298968, 0.175, 'gini = 0.0\\nsamples = 1178\\nvalue = [1178, 0]'),\n",
              " Text(0.18041237113402062, 0.175, 'x[15] <= 0.411\\ngini = 0.043\\nsamples = 46\\nvalue = [45, 1]'),\n",
              " Text(0.17010309278350516, 0.125, 'gini = 0.18\\nsamples = 10\\nvalue = [9, 1]'),\n",
              " Text(0.19072164948453607, 0.125, 'gini = 0.0\\nsamples = 36\\nvalue = [36, 0]'),\n",
              " Text(0.19072164948453607, 0.225, 'gini = 0.18\\nsamples = 10\\nvalue = [9, 1]'),\n",
              " Text(0.23195876288659795, 0.275, 'x[10] <= 2.281\\ngini = 0.0\\nsamples = 13552\\nvalue = [13550, 2]'),\n",
              " Text(0.211340206185567, 0.225, 'x[14] <= 1.263\\ngini = 0.0\\nsamples = 13199\\nvalue = [13198, 1]'),\n",
              " Text(0.20103092783505155, 0.175, 'gini = 0.0\\nsamples = 12506\\nvalue = [12506, 0]'),\n",
              " Text(0.22164948453608246, 0.175, 'x[14] <= 1.268\\ngini = 0.003\\nsamples = 693\\nvalue = [692, 1]'),\n",
              " Text(0.211340206185567, 0.125, 'gini = 0.18\\nsamples = 10\\nvalue = [9, 1]'),\n",
              " Text(0.23195876288659795, 0.125, 'gini = 0.0\\nsamples = 683\\nvalue = [683, 0]'),\n",
              " Text(0.25257731958762886, 0.225, 'x[10] <= 2.304\\ngini = 0.006\\nsamples = 353\\nvalue = [352, 1]'),\n",
              " Text(0.2422680412371134, 0.175, 'gini = 0.18\\nsamples = 10\\nvalue = [9, 1]'),\n",
              " Text(0.26288659793814434, 0.175, 'gini = 0.0\\nsamples = 343\\nvalue = [343, 0]'),\n",
              " Text(0.34536082474226804, 0.325, 'x[28] <= 0.042\\ngini = 0.004\\nsamples = 3237\\nvalue = [3230, 7]'),\n",
              " Text(0.33505154639175255, 0.275, 'gini = 0.18\\nsamples = 10\\nvalue = [9, 1]'),\n",
              " Text(0.3556701030927835, 0.275, 'x[13] <= -1.816\\ngini = 0.004\\nsamples = 3227\\nvalue = [3221, 6]'),\n",
              " Text(0.30412371134020616, 0.225, 'x[11] <= 0.483\\ngini = 0.016\\nsamples = 486\\nvalue = [482, 4]'),\n",
              " Text(0.28350515463917525, 0.175, 'x[5] <= -1.424\\ngini = 0.005\\nsamples = 415\\nvalue = [414, 1]'),\n",
              " Text(0.27319587628865977, 0.125, 'x[18] <= -0.249\\ngini = 0.042\\nsamples = 47\\nvalue = [46, 1]'),\n",
              " Text(0.26288659793814434, 0.075, 'gini = 0.0\\nsamples = 37\\nvalue = [37, 0]'),\n",
              " Text(0.28350515463917525, 0.075, 'gini = 0.18\\nsamples = 10\\nvalue = [9, 1]'),\n",
              " Text(0.29381443298969073, 0.125, 'gini = 0.0\\nsamples = 368\\nvalue = [368, 0]'),\n",
              " Text(0.3247422680412371, 0.175, 'x[11] <= 0.546\\ngini = 0.081\\nsamples = 71\\nvalue = [68, 3]'),\n",
              " Text(0.31443298969072164, 0.125, 'gini = 0.32\\nsamples = 10\\nvalue = [8, 2]'),\n",
              " Text(0.33505154639175255, 0.125, 'x[12] <= 1.065\\ngini = 0.032\\nsamples = 61\\nvalue = [60, 1]'),\n",
              " Text(0.3247422680412371, 0.075, 'gini = 0.0\\nsamples = 51\\nvalue = [51, 0]'),\n",
              " Text(0.34536082474226804, 0.075, 'gini = 0.18\\nsamples = 10\\nvalue = [9, 1]'),\n",
              " Text(0.4072164948453608, 0.225, 'x[10] <= 1.499\\ngini = 0.001\\nsamples = 2741\\nvalue = [2739, 2]'),\n",
              " Text(0.3865979381443299, 0.175, 'x[21] <= -1.014\\ngini = 0.001\\nsamples = 2688\\nvalue = [2687, 1]'),\n",
              " Text(0.37628865979381443, 0.125, 'x[12] <= -0.746\\ngini = 0.03\\nsamples = 66\\nvalue = [65, 1]'),\n",
              " Text(0.36597938144329895, 0.075, 'gini = 0.18\\nsamples = 10\\nvalue = [9, 1]'),\n",
              " Text(0.3865979381443299, 0.075, 'gini = 0.0\\nsamples = 56\\nvalue = [56, 0]'),\n",
              " Text(0.39690721649484534, 0.125, 'gini = 0.0\\nsamples = 2622\\nvalue = [2622, 0]'),\n",
              " Text(0.42783505154639173, 0.175, 'x[12] <= -0.743\\ngini = 0.037\\nsamples = 53\\nvalue = [52, 1]'),\n",
              " Text(0.4175257731958763, 0.125, 'gini = 0.18\\nsamples = 10\\nvalue = [9, 1]'),\n",
              " Text(0.4381443298969072, 0.125, 'gini = 0.0\\nsamples = 43\\nvalue = [43, 0]'),\n",
              " Text(0.30670103092783507, 0.425, 'x[20] <= 0.194\\ngini = 0.038\\nsamples = 51\\nvalue = [50, 1]'),\n",
              " Text(0.2963917525773196, 0.375, 'gini = 0.0\\nsamples = 41\\nvalue = [41, 0]'),\n",
              " Text(0.3170103092783505, 0.375, 'gini = 0.18\\nsamples = 10\\nvalue = [9, 1]'),\n",
              " Text(0.2867268041237113, 0.475, 'gini = 0.18\\nsamples = 10\\nvalue = [9, 1]'),\n",
              " Text(0.6080057989690721, 0.525, 'x[18] <= -2.547\\ngini = 0.0\\nsamples = 167220\\nvalue = [167210, 10]'),\n",
              " Text(0.5769974226804123, 0.475, 'x[18] <= -2.558\\ngini = 0.005\\nsamples = 396\\nvalue = [395, 1]'),\n",
              " Text(0.5666881443298969, 0.425, 'gini = 0.0\\nsamples = 386\\nvalue = [386, 0]'),\n",
              " Text(0.5873067010309279, 0.425, 'gini = 0.18\\nsamples = 10\\nvalue = [9, 1]'),\n",
              " Text(0.639014175257732, 0.475, 'x[20] <= 2.838\\ngini = 0.0\\nsamples = 166824\\nvalue = [166815, 9]'),\n",
              " Text(0.6079252577319587, 0.425, 'x[14] <= 2.206\\ngini = 0.0\\nsamples = 166333\\nvalue = [166325, 8]'),\n",
              " Text(0.5766752577319587, 0.375, 'x[18] <= 2.502\\ngini = 0.0\\nsamples = 165772\\nvalue = [165765, 7]'),\n",
              " Text(0.5451030927835051, 0.325, 'x[25] <= 1.247\\ngini = 0.0\\nsamples = 164669\\nvalue = [164663, 6]'),\n",
              " Text(0.5128865979381443, 0.275, 'x[19] <= -0.511\\ngini = 0.0\\nsamples = 163594\\nvalue = [163589, 5]'),\n",
              " Text(0.4793814432989691, 0.225, 'x[19] <= -0.511\\ngini = 0.001\\nsamples = 7567\\nvalue = [7565, 2]'),\n",
              " Text(0.4690721649484536, 0.175, 'x[15] <= -2.156\\ngini = 0.0\\nsamples = 7557\\nvalue = [7556, 1]'),\n",
              " Text(0.4587628865979381, 0.125, 'x[15] <= -2.164\\ngini = 0.003\\nsamples = 689\\nvalue = [688, 1]'),\n",
              " Text(0.4484536082474227, 0.075, 'gini = 0.0\\nsamples = 679\\nvalue = [679, 0]'),\n",
              " Text(0.4690721649484536, 0.075, 'gini = 0.18\\nsamples = 10\\nvalue = [9, 1]'),\n",
              " Text(0.4793814432989691, 0.125, 'gini = 0.0\\nsamples = 6868\\nvalue = [6868, 0]'),\n",
              " Text(0.4896907216494845, 0.175, 'gini = 0.18\\nsamples = 10\\nvalue = [9, 1]'),\n",
              " Text(0.5463917525773195, 0.225, 'x[22] <= 0.845\\ngini = 0.0\\nsamples = 156027\\nvalue = [156024, 3]'),\n",
              " Text(0.520618556701031, 0.175, 'x[9] <= -1.481\\ngini = 0.0\\nsamples = 154092\\nvalue = [154090, 2]'),\n",
              " Text(0.5, 0.125, 'x[9] <= -1.482\\ngini = 0.001\\nsamples = 3842\\nvalue = [3841, 1]'),\n",
              " Text(0.4896907216494845, 0.075, 'gini = 0.0\\nsamples = 3832\\nvalue = [3832, 0]'),\n",
              " Text(0.5103092783505154, 0.075, 'gini = 0.18\\nsamples = 10\\nvalue = [9, 1]'),\n",
              " Text(0.5412371134020618, 0.125, 'x[12] <= 1.575\\ngini = 0.0\\nsamples = 150250\\nvalue = [150249, 1]'),\n",
              " Text(0.5309278350515464, 0.075, 'gini = 0.0\\nsamples = 142246\\nvalue = [142246, 0]'),\n",
              " Text(0.5515463917525774, 0.075, 'x[12] <= 1.575\\ngini = 0.0\\nsamples = 8004\\nvalue = [8003, 1]'),\n",
              " Text(0.5412371134020618, 0.025, 'gini = 0.18\\nsamples = 10\\nvalue = [9, 1]'),\n",
              " Text(0.5618556701030928, 0.025, 'gini = 0.0\\nsamples = 7994\\nvalue = [7994, 0]'),\n",
              " Text(0.5721649484536082, 0.175, 'x[22] <= 0.847\\ngini = 0.001\\nsamples = 1935\\nvalue = [1934, 1]'),\n",
              " Text(0.5618556701030928, 0.125, 'gini = 0.18\\nsamples = 10\\nvalue = [9, 1]'),\n",
              " Text(0.5824742268041238, 0.125, 'gini = 0.0\\nsamples = 1925\\nvalue = [1925, 0]'),\n",
              " Text(0.5773195876288659, 0.275, 'x[25] <= 1.25\\ngini = 0.002\\nsamples = 1075\\nvalue = [1074, 1]'),\n",
              " Text(0.5670103092783505, 0.225, 'gini = 0.18\\nsamples = 10\\nvalue = [9, 1]'),\n",
              " Text(0.5876288659793815, 0.225, 'gini = 0.0\\nsamples = 1065\\nvalue = [1065, 0]'),\n",
              " Text(0.6082474226804123, 0.325, 'x[18] <= 2.507\\ngini = 0.002\\nsamples = 1103\\nvalue = [1102, 1]'),\n",
              " Text(0.5979381443298969, 0.275, 'gini = 0.18\\nsamples = 10\\nvalue = [9, 1]'),\n",
              " Text(0.6185567010309279, 0.275, 'gini = 0.0\\nsamples = 1093\\nvalue = [1093, 0]'),\n",
              " Text(0.6391752577319587, 0.375, 'x[14] <= 2.211\\ngini = 0.004\\nsamples = 561\\nvalue = [560, 1]'),\n",
              " Text(0.6288659793814433, 0.325, 'gini = 0.18\\nsamples = 10\\nvalue = [9, 1]'),\n",
              " Text(0.6494845360824743, 0.325, 'gini = 0.0\\nsamples = 551\\nvalue = [551, 0]'),\n",
              " Text(0.6701030927835051, 0.425, 'x[12] <= -1.792\\ngini = 0.004\\nsamples = 491\\nvalue = [490, 1]'),\n",
              " Text(0.6597938144329897, 0.375, 'gini = 0.18\\nsamples = 10\\nvalue = [9, 1]'),\n",
              " Text(0.6804123711340206, 0.375, 'gini = 0.0\\nsamples = 481\\nvalue = [481, 0]'),\n",
              " Text(0.7216494845360825, 0.575, 'x[6] <= 2.893\\ngini = 0.007\\nsamples = 1151\\nvalue = [1147, 4]'),\n",
              " Text(0.711340206185567, 0.525, 'gini = 0.18\\nsamples = 10\\nvalue = [9, 1]'),\n",
              " Text(0.7319587628865979, 0.525, 'x[16] <= 1.755\\ngini = 0.005\\nsamples = 1141\\nvalue = [1138, 3]'),\n",
              " Text(0.7216494845360825, 0.475, 'x[25] <= -0.54\\ngini = 0.004\\nsamples = 1122\\nvalue = [1120, 2]'),\n",
              " Text(0.711340206185567, 0.425, 'x[18] <= 0.681\\ngini = 0.023\\nsamples = 169\\nvalue = [167, 2]'),\n",
              " Text(0.7010309278350515, 0.375, 'gini = 0.0\\nsamples = 151\\nvalue = [151, 0]'),\n",
              " Text(0.7216494845360825, 0.375, 'gini = 0.198\\nsamples = 18\\nvalue = [16, 2]'),\n",
              " Text(0.7319587628865979, 0.425, 'gini = 0.0\\nsamples = 953\\nvalue = [953, 0]'),\n",
              " Text(0.7422680412371134, 0.475, 'gini = 0.1\\nsamples = 19\\nvalue = [18, 1]'),\n",
              " Text(0.90625, 0.725, 'x[16] <= 1.591\\ngini = 0.005\\nsamples = 10254\\nvalue = [10230, 24]'),\n",
              " Text(0.8537371134020618, 0.675, 'x[25] <= 2.688\\ngini = 0.003\\nsamples = 9835\\nvalue = [9821, 14]'),\n",
              " Text(0.8434278350515464, 0.625, 'x[13] <= -2.306\\ngini = 0.003\\nsamples = 9825\\nvalue = [9812, 13]'),\n",
              " Text(0.8015463917525774, 0.575, 'x[20] <= 0.015\\ngini = 0.041\\nsamples = 143\\nvalue = [140, 3]'),\n",
              " Text(0.7912371134020618, 0.525, 'gini = 0.0\\nsamples = 128\\nvalue = [128, 0]'),\n",
              " Text(0.8118556701030928, 0.525, 'gini = 0.32\\nsamples = 15\\nvalue = [12, 3]'),\n",
              " Text(0.8853092783505154, 0.575, 'x[3] <= 5.151\\ngini = 0.002\\nsamples = 9682\\nvalue = [9672, 10]'),\n",
              " Text(0.8324742268041238, 0.525, 'x[28] <= -0.343\\ngini = 0.001\\nsamples = 9477\\nvalue = [9470, 7]'),\n",
              " Text(0.788659793814433, 0.475, 'x[6] <= 1.078\\ngini = 0.007\\nsamples = 1418\\nvalue = [1413, 5]'),\n",
              " Text(0.7628865979381443, 0.425, 'x[10] <= 1.116\\ngini = 0.004\\nsamples = 1371\\nvalue = [1368, 3]'),\n",
              " Text(0.7422680412371134, 0.375, 'x[11] <= -2.777\\ngini = 0.002\\nsamples = 1293\\nvalue = [1292, 1]'),\n",
              " Text(0.7319587628865979, 0.325, 'x[2] <= 0.109\\ngini = 0.057\\nsamples = 34\\nvalue = [33, 1]'),\n",
              " Text(0.7216494845360825, 0.275, 'gini = 0.18\\nsamples = 10\\nvalue = [9, 1]'),\n",
              " Text(0.7422680412371134, 0.275, 'gini = 0.0\\nsamples = 24\\nvalue = [24, 0]'),\n",
              " Text(0.7525773195876289, 0.325, 'gini = 0.0\\nsamples = 1259\\nvalue = [1259, 0]'),\n",
              " Text(0.7835051546391752, 0.375, 'x[11] <= 0.805\\ngini = 0.05\\nsamples = 78\\nvalue = [76, 2]'),\n",
              " Text(0.7731958762886598, 0.325, 'gini = 0.0\\nsamples = 68\\nvalue = [68, 0]'),\n",
              " Text(0.7938144329896907, 0.325, 'gini = 0.32\\nsamples = 10\\nvalue = [8, 2]'),\n",
              " Text(0.8144329896907216, 0.425, 'x[25] <= -0.075\\ngini = 0.081\\nsamples = 47\\nvalue = [45, 2]'),\n",
              " Text(0.8041237113402062, 0.375, 'gini = 0.32\\nsamples = 10\\nvalue = [8, 2]'),\n",
              " Text(0.8247422680412371, 0.375, 'gini = 0.0\\nsamples = 37\\nvalue = [37, 0]'),\n",
              " Text(0.8762886597938144, 0.475, 'x[14] <= -2.717\\ngini = 0.0\\nsamples = 8059\\nvalue = [8057, 2]'),\n",
              " Text(0.8556701030927835, 0.425, 'x[17] <= -0.647\\ngini = 0.012\\nsamples = 166\\nvalue = [165, 1]'),\n",
              " Text(0.845360824742268, 0.375, 'gini = 0.18\\nsamples = 10\\nvalue = [9, 1]'),\n",
              " Text(0.865979381443299, 0.375, 'gini = 0.0\\nsamples = 156\\nvalue = [156, 0]'),\n",
              " Text(0.8969072164948454, 0.425, 'x[27] <= -0.332\\ngini = 0.0\\nsamples = 7893\\nvalue = [7892, 1]'),\n",
              " Text(0.8865979381443299, 0.375, 'x[0] <= 0.122\\ngini = 0.004\\nsamples = 530\\nvalue = [529, 1]'),\n",
              " Text(0.8762886597938144, 0.325, 'gini = 0.0\\nsamples = 520\\nvalue = [520, 0]'),\n",
              " Text(0.8969072164948454, 0.325, 'gini = 0.18\\nsamples = 10\\nvalue = [9, 1]'),\n",
              " Text(0.9072164948453608, 0.375, 'gini = 0.0\\nsamples = 7363\\nvalue = [7363, 0]'),\n",
              " Text(0.9381443298969072, 0.525, 'x[15] <= -0.481\\ngini = 0.029\\nsamples = 205\\nvalue = [202, 3]'),\n",
              " Text(0.9278350515463918, 0.475, 'x[9] <= 1.722\\ngini = 0.18\\nsamples = 30\\nvalue = [27, 3]'),\n",
              " Text(0.9175257731958762, 0.425, 'gini = 0.0\\nsamples = 20\\nvalue = [20, 0]'),\n",
              " Text(0.9381443298969072, 0.425, 'gini = 0.42\\nsamples = 10\\nvalue = [7, 3]'),\n",
              " Text(0.9484536082474226, 0.475, 'gini = 0.0\\nsamples = 175\\nvalue = [175, 0]'),\n",
              " Text(0.8640463917525774, 0.625, 'gini = 0.18\\nsamples = 10\\nvalue = [9, 1]'),\n",
              " Text(0.9587628865979382, 0.675, 'x[0] <= 0.833\\ngini = 0.047\\nsamples = 419\\nvalue = [409, 10]'),\n",
              " Text(0.9381443298969072, 0.625, 'x[18] <= 1.965\\ngini = 0.012\\nsamples = 345\\nvalue = [343, 2]'),\n",
              " Text(0.9278350515463918, 0.575, 'gini = 0.0\\nsamples = 335\\nvalue = [335, 0]'),\n",
              " Text(0.9484536082474226, 0.575, 'gini = 0.32\\nsamples = 10\\nvalue = [8, 2]'),\n",
              " Text(0.979381443298969, 0.625, 'x[27] <= 0.047\\ngini = 0.193\\nsamples = 74\\nvalue = [66, 8]'),\n",
              " Text(0.9690721649484536, 0.575, 'x[13] <= -2.952\\ngini = 0.063\\nsamples = 61\\nvalue = [59, 2]'),\n",
              " Text(0.9587628865979382, 0.525, 'gini = 0.32\\nsamples = 10\\nvalue = [8, 2]'),\n",
              " Text(0.979381443298969, 0.525, 'gini = 0.0\\nsamples = 51\\nvalue = [51, 0]'),\n",
              " Text(0.9896907216494846, 0.575, 'gini = 0.497\\nsamples = 13\\nvalue = [7, 6]')]"
            ]
          },
          "metadata": {},
          "execution_count": 37
        },
        {
          "output_type": "display_data",
          "data": {
            "text/plain": [
              "<Figure size 1600x800 with 1 Axes>"
            ],
            "image/png": "[encoded data removed]"
          },
          "metadata": {}
        }
      ]
    },
    {
      "cell_type": "code",
      "source": [
        "print(x_train.columns[18])"
      ],
      "metadata": {
        "colab": {
          "base_uri": "https://localhost:8080/"
        },
        "id": "oXikFuT-3oaW",
        "outputId": "77d5b9ce-6d67-4109-dff3-3b54e0f95a8c"
      },
      "execution_count": null,
      "outputs": [
        {
          "output_type": "stream",
          "name": "stdout",
          "text": [
            "V19\n"
          ]
        }
      ]
    },
    {
      "cell_type": "code",
      "source": [
        "lin_model=smf.ols(\"Class ~ V1 + V4 + V6 + V7 + V8 + V10 + V13 + V14 + V16 + V19 + V20 + V21 + V22 + V27 + V28 + Amount\", data = train)"
      ],
      "metadata": {
        "id": "VCJVZ2Z-31kc"
      },
      "execution_count": null,
      "outputs": []
    },
    {
      "cell_type": "code",
      "source": [
        "result_lin = lin_model.fit()\n",
        "print(result_lin.summary())"
      ],
      "metadata": {
        "colab": {
          "base_uri": "https://localhost:8080/"
        },
        "id": "wFtln4lFkXnx",
        "outputId": "47daad55-f415-4386-b409-ed6acc4babc1"
      },
      "execution_count": null,
      "outputs": [
        {
          "output_type": "stream",
          "name": "stdout",
          "text": [
            "                            OLS Regression Results                            \n",
            "==============================================================================\n",
            "Dep. Variable:                  Class   R-squared:                       0.243\n",
            "Model:                            OLS   Adj. R-squared:                  0.243\n",
            "Method:                 Least Squares   F-statistic:                     4006.\n",
            "Date:                Tue, 12 Mar 2024   Prob (F-statistic):               0.00\n",
            "Time:                        04:06:28   Log-Likelihood:             3.7587e+05\n",
            "No. Observations:              199364   AIC:                        -7.517e+05\n",
            "Df Residuals:                  199347   BIC:                        -7.515e+05\n",
            "Df Model:                          16                                         \n",
            "Covariance Type:            nonrobust                                         \n",
            "==============================================================================\n",
            "                 coef    std err          t      P>|t|      [0.025      0.975]\n",
            "------------------------------------------------------------------------------\n",
            "Intercept      0.0018   8.23e-05     21.619      0.000       0.002       0.002\n",
            "V1            -0.0018   4.39e-05    -40.715      0.000      -0.002      -0.002\n",
            "V4             0.0039   5.86e-05     66.449      0.000       0.004       0.004\n",
            "V6            -0.0017   6.41e-05    -27.306      0.000      -0.002      -0.002\n",
            "V7            -0.0069    7.5e-05    -91.388      0.000      -0.007      -0.007\n",
            "V8             0.0011   6.99e-05     15.489      0.000       0.001       0.001\n",
            "V10           -0.0081   7.64e-05   -106.512      0.000      -0.008      -0.008\n",
            "V13        -9.913e-05   8.26e-05     -1.200      0.230      -0.000    6.28e-05\n",
            "V14           -0.0135   8.58e-05   -157.738      0.000      -0.014      -0.013\n",
            "V16           -0.0093   9.38e-05    -99.261      0.000      -0.009      -0.009\n",
            "V19            0.0019      0.000     19.218      0.000       0.002       0.002\n",
            "V20        -8.167e-05      0.000     -0.708      0.479      -0.000       0.000\n",
            "V21            0.0017      0.000     15.161      0.000       0.001       0.002\n",
            "V22            0.0003      0.000      2.900      0.004       0.000       0.001\n",
            "V27            0.0019      0.000      9.471      0.000       0.002       0.002\n",
            "V28            0.0007      0.000      2.912      0.004       0.000       0.001\n",
            "Amount         0.0024      0.000     22.776      0.000       0.002       0.003\n",
            "==============================================================================\n",
            "Omnibus:                   410593.946   Durbin-Watson:                   2.005\n",
            "Prob(Omnibus):                  0.000   Jarque-Bera (JB):       1434027036.595\n",
            "Skew:                          17.603   Prob(JB):                         0.00\n",
            "Kurtosis:                     416.996   Cond. No.                         6.03\n",
            "==============================================================================\n",
            "\n",
            "Notes:\n",
            "[1] Standard Errors assume that the covariance matrix of the errors is correctly specified.\n"
          ]
        }
      ]
    },
    {
      "cell_type": "code",
      "source": [],
      "metadata": {
        "id": "lrFXCoTxkqI3"
      },
      "execution_count": null,
      "outputs": []
    }
  ]
}